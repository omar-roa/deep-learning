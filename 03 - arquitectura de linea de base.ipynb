{
  "nbformat": 4,
  "nbformat_minor": 0,
  "metadata": {
    "colab": {
      "name": "03 - arquitectura de linea de base.ipynb",
      "provenance": [],
      "collapsed_sections": [],
      "toc_visible": true,
      "authorship_tag": "ABX9TyPzklIEPpkyLtPPXslKV0SR",
      "include_colab_link": true
    },
    "kernelspec": {
      "name": "python3",
      "display_name": "Python 3"
    },
    "language_info": {
      "name": "python"
    }
  },
  "cells": [
    {
      "cell_type": "markdown",
      "metadata": {
        "id": "view-in-github",
        "colab_type": "text"
      },
      "source": [
        "<a href=\"https://colab.research.google.com/github/omar-roa/deep-learning/blob/main/03%20-%20arquitectura%20de%20linea%20de%20base.ipynb\" target=\"_parent\"><img src=\"https://colab.research.google.com/assets/colab-badge.svg\" alt=\"Open In Colab\"/></a>"
      ]
    },
    {
      "cell_type": "markdown",
      "source": [
        "# 0. Librerías"
      ],
      "metadata": {
        "id": "mjEh0tvLBGPw"
      }
    },
    {
      "cell_type": "code",
      "execution_count": null,
      "metadata": {
        "id": "r3WOLyNcAe4G"
      },
      "outputs": [],
      "source": [
        "import numpy as np\n",
        "import random\n",
        "import pandas as pd\n",
        "from sklearn.preprocessing import MinMaxScaler\n",
        "from PIL import Image\n",
        "import matplotlib.pyplot as plt\n",
        "from sklearn.model_selection import train_test_split\n",
        "import tensorflow as tf\n",
        "from time import time\n",
        "from sklearn.metrics import confusion_matrix\n",
        "import seaborn as sns\n",
        "from sklearn.metrics import f1_score,accuracy_score\n",
        "from sklearn.metrics import confusion_matrix\n",
        "import seaborn as sns"
      ]
    },
    {
      "cell_type": "code",
      "source": [
        "def matrix_conf(y_test, y_pred, labels):\n",
        "    cm = confusion_matrix(y_test, y_pred)\n",
        "\n",
        "    # Normalizar\n",
        "    cmn = cm.astype('float') / cm.sum(axis=1)[:, np.newaxis]\n",
        "    \n",
        "    # Graficar\n",
        "    fig, ax = plt.subplots(figsize=(10,10))\n",
        "    sns.heatmap(cmn, cmap=\"Blues\", annot=True, fmt='.3f', xticklabels=labels, yticklabels=labels)\n",
        "    plt.ylabel('Real')\n",
        "    plt.xlabel('Predicción')\n",
        "    plt.show(block=False)\n",
        "\n",
        "    return ax"
      ],
      "metadata": {
        "id": "TxdEASKddSKs"
      },
      "execution_count": null,
      "outputs": []
    },
    {
      "cell_type": "markdown",
      "source": [
        "# 1. Retomamos el dataset preprocesado\n",
        "\n",
        "Tendremos dos datasets para contrastar el desempeño de los modelos\n",
        "\n",
        "\n",
        "1.   Dataset depurado sin balancear (1.187.782 registros) ds_v4\n",
        "2.   Dataset depurado y balanceado (780.004 registros) ds_v5\n"
      ],
      "metadata": {
        "id": "n8Xbbk0pBOzp"
      }
    },
    {
      "cell_type": "code",
      "source": [
        "%%capture\n",
        "!wget --load-cookies /tmp/cookies.txt \"https://docs.google.com/uc?export=download&confirm=$(wget --quiet --save-cookies /tmp/cookies.txt --keep-session-cookies --no-check-certificate 'https://docs.google.com/uc?export=download&id=1IQGn8-uMQlmriI0daCF0wJq4xUnkcekv' -O- | sed -rn 's/.*confirm=([0-9A-Za-z_]+).*/\\1\\n/p')&id=1IQGn8-uMQlmriI0daCF0wJq4xUnkcekv\" -O SDN_Intrusion4.csv && rm -rf /tmp/cookies.txt\n",
        "!wget --load-cookies /tmp/cookies.txt \"https://docs.google.com/uc?export=download&confirm=$(wget --quiet --save-cookies /tmp/cookies.txt --keep-session-cookies --no-check-certificate 'https://docs.google.com/uc?export=download&id=1-0pXxJzz47VJAOLp6vDnRQc3OLETGcQL' -O- | sed -rn 's/.*confirm=([0-9A-Za-z_]+).*/\\1\\n/p')&id=1-0pXxJzz47VJAOLp6vDnRQc3OLETGcQL\" -O SDN_Intrusion5.csv && rm -rf /tmp/cookies.txt"
      ],
      "metadata": {
        "id": "2TEhaPIbBOdg"
      },
      "execution_count": null,
      "outputs": []
    },
    {
      "cell_type": "code",
      "source": [
        "ds_v4 = pd.read_csv('/content/SDN_Intrusion4.csv')\n",
        "ds_v5 = pd.read_csv('/content/SDN_Intrusion5.csv')"
      ],
      "metadata": {
        "id": "nnHWuub7CFmY"
      },
      "execution_count": null,
      "outputs": []
    },
    {
      "cell_type": "code",
      "source": [
        "ds_v4['Class'].value_counts()"
      ],
      "metadata": {
        "colab": {
          "base_uri": "https://localhost:8080/"
        },
        "id": "0snQ56aHbB9n",
        "outputId": "9dcc1829-3636-4f91-f998-ca27eb3efd68"
      },
      "execution_count": null,
      "outputs": [
        {
          "output_type": "execute_result",
          "data": {
            "text/plain": [
              "1    797780\n",
              "0    383430\n",
              "2      4550\n",
              "3      1962\n",
              "4        60\n",
              "Name: Class, dtype: int64"
            ]
          },
          "metadata": {},
          "execution_count": 6
        }
      ]
    },
    {
      "cell_type": "markdown",
      "source": [
        "Tendremos dos escenario:\n",
        "\n",
        "\n",
        "*   Caso de clasificación binaria: BENIGNO vs ATAQUE\n",
        "*   Caso de clasificación multiclase: BENIGNO vs DDoS vs Brute Force vs XSS vs Sql Injection"
      ],
      "metadata": {
        "id": "H7Qn1zEEYniw"
      }
    },
    {
      "cell_type": "code",
      "source": [
        "# Separamos las entradas de la salida\n",
        "X = ds_v4.drop(columns=({'Class'}))\n",
        "\n",
        "# Salida para el caso multiclase\n",
        "y_multi = ds_v4['Class']\n",
        "dict_multi = {0: 'DDoS', 1: 'BENIGN', 2: 'Web Attack - Brute Force', 3: 'Web Attack - XSS', 4: 'Web Attack - Sql Injection'}\n",
        "\n",
        "# Salida para el caso binario\n",
        "y_bin = y_multi.replace([2, 3, 4], 0)\n",
        "dict_bin = {0: 'ATTACK', 1: 'BENIGN', }\n",
        "\n",
        "# Haremos un escalamiento Max-Min entre 0 y 1\n",
        "scaler = MinMaxScaler()\n",
        "X_sc = X\n",
        "X_sc[X.columns] = scaler.fit_transform(X)"
      ],
      "metadata": {
        "id": "Wl5qqUICVOll"
      },
      "execution_count": null,
      "outputs": []
    },
    {
      "cell_type": "markdown",
      "source": [
        "Verificamos que el escalamiento se haya sido realizado sin problema\n"
      ],
      "metadata": {
        "id": "I8ObPjWe5aFz"
      }
    },
    {
      "cell_type": "code",
      "source": [
        "X_sc.describe()"
      ],
      "metadata": {
        "colab": {
          "base_uri": "https://localhost:8080/",
          "height": 429
        },
        "id": "7sMjXqx7T_Mk",
        "outputId": "bbd54ecb-3a5f-4859-fc43-76d8eb2a1b99"
      },
      "execution_count": null,
      "outputs": [
        {
          "output_type": "execute_result",
          "data": {
            "text/plain": [
              "        Destination Port   Total Fwd Packets   Total Backward Packets  \\\n",
              "count       1.187782e+06        1.187782e+06             1.187782e+06   \n",
              "mean        1.292702e-01        4.283834e-05             3.984613e-05   \n",
              "std         2.921122e-01        3.710986e-03             3.656775e-03   \n",
              "min         0.000000e+00        0.000000e+00             0.000000e+00   \n",
              "25%         8.087652e-04        4.981221e-06             3.694317e-06   \n",
              "50%         1.220778e-03        9.962442e-06             7.388635e-06   \n",
              "75%         6.760056e-03        1.992488e-05             1.847159e-05   \n",
              "max         1.000000e+00        1.000000e+00             1.000000e+00   \n",
              "\n",
              "       Total Length of Fwd Packets   Fwd Packet Length Max  \\\n",
              "count                 1.187782e+06            1.187782e+06   \n",
              "mean                  6.554129e-04            1.633813e-02   \n",
              "std                   4.810782e-03            6.237066e-02   \n",
              "min                   0.000000e+00            0.000000e+00   \n",
              "25%                   2.171736e-05            2.568493e-04   \n",
              "50%                   4.009359e-05            8.561644e-04   \n",
              "75%                   7.517547e-05            2.054795e-03   \n",
              "max                   1.000000e+00            1.000000e+00   \n",
              "\n",
              "        Fwd Packet Length Mean   Fwd Packet Length Std  Bwd Packet Length Max  \\\n",
              "count             1.187782e+06            1.187782e+06           1.187782e+06   \n",
              "mean              2.760880e-02            2.148232e-02           1.317206e-01   \n",
              "std               9.371265e-02            9.218685e-02           2.338310e-01   \n",
              "min               0.000000e+00            0.000000e+00           0.000000e+00   \n",
              "25%               1.434358e-03            0.000000e+00           4.566210e-04   \n",
              "50%               2.103725e-03            0.000000e+00           6.849315e-03   \n",
              "75%               1.075768e-02            1.533505e-03           1.224505e-01   \n",
              "max               1.000000e+00            1.000000e+00           1.000000e+00   \n",
              "\n",
              "        Bwd Packet Length Mean   Bwd Packet Length Std  ...  \\\n",
              "count             1.187782e+06            1.187782e+06  ...   \n",
              "mean              9.931579e-02            9.193903e-02  ...   \n",
              "std               1.615738e-01            1.745046e-01  ...   \n",
              "min               0.000000e+00            0.000000e+00  ...   \n",
              "25%               8.275149e-04            0.000000e+00  ...   \n",
              "50%               1.430911e-02            0.000000e+00  ...   \n",
              "75%               9.822429e-02            8.335953e-02  ...   \n",
              "max               1.000000e+00            1.000000e+00  ...   \n",
              "\n",
              "        Average Packet Size   Avg Fwd Segment Size   Avg Bwd Segment Size  \\\n",
              "count          1.187782e+06           1.187782e+06           1.187782e+06   \n",
              "mean           1.352971e-01           2.760880e-02           9.931579e-02   \n",
              "std            1.925221e-01           9.371265e-02           1.615738e-01   \n",
              "min            0.000000e+00           0.000000e+00           0.000000e+00   \n",
              "25%            3.232759e-03           1.434358e-03           8.275149e-04   \n",
              "50%            3.071121e-02           2.103725e-03           1.430911e-02   \n",
              "75%            2.621004e-01           1.075768e-02           9.822429e-02   \n",
              "max            1.000000e+00           1.000000e+00           1.000000e+00   \n",
              "\n",
              "        Fwd Header Length.1  Subflow Fwd Packets   Subflow Fwd Bytes  \\\n",
              "count          1.187782e+06         1.187782e+06        1.187782e+06   \n",
              "mean           5.263823e-05         4.283834e-05        6.554129e-04   \n",
              "std            3.723173e-03         3.710986e-03        4.810782e-03   \n",
              "min            0.000000e+00         0.000000e+00        0.000000e+00   \n",
              "25%            9.585265e-06         4.981221e-06        2.171736e-05   \n",
              "50%            1.725348e-05         9.962442e-06        4.009359e-05   \n",
              "75%            2.492169e-05         1.992488e-05        7.517547e-05   \n",
              "max            1.000000e+00         1.000000e+00        1.000000e+00   \n",
              "\n",
              "        Subflow Bwd Packets  Init_Win_bytes_forward   Init_Win_bytes_backward  \\\n",
              "count          1.187782e+06            1.187782e+06              1.187782e+06   \n",
              "mean           3.984613e-05            7.788111e-02              2.096018e-02   \n",
              "std            3.656775e-03            1.635623e-01              1.085894e-01   \n",
              "min            0.000000e+00            0.000000e+00              0.000000e+00   \n",
              "25%            3.694317e-06            0.000000e+00              0.000000e+00   \n",
              "50%            7.388635e-06            3.921509e-03              1.525879e-05   \n",
              "75%            1.847159e-05            1.250153e-01              3.509521e-03   \n",
              "max            1.000000e+00            1.000000e+00              1.000000e+00   \n",
              "\n",
              "        act_data_pkt_fwd  \n",
              "count       1.187782e+06  \n",
              "mean        3.796426e-05  \n",
              "std         3.712643e-03  \n",
              "min         0.000000e+00  \n",
              "25%         5.195048e-06  \n",
              "50%         1.039010e-05  \n",
              "75%         2.078019e-05  \n",
              "max         1.000000e+00  \n",
              "\n",
              "[8 rows x 36 columns]"
            ],
            "text/html": [
              "\n",
              "  <div id=\"df-b54e2d09-64cb-462b-8493-104d839c1702\">\n",
              "    <div class=\"colab-df-container\">\n",
              "      <div>\n",
              "<style scoped>\n",
              "    .dataframe tbody tr th:only-of-type {\n",
              "        vertical-align: middle;\n",
              "    }\n",
              "\n",
              "    .dataframe tbody tr th {\n",
              "        vertical-align: top;\n",
              "    }\n",
              "\n",
              "    .dataframe thead th {\n",
              "        text-align: right;\n",
              "    }\n",
              "</style>\n",
              "<table border=\"1\" class=\"dataframe\">\n",
              "  <thead>\n",
              "    <tr style=\"text-align: right;\">\n",
              "      <th></th>\n",
              "      <th>Destination Port</th>\n",
              "      <th>Total Fwd Packets</th>\n",
              "      <th>Total Backward Packets</th>\n",
              "      <th>Total Length of Fwd Packets</th>\n",
              "      <th>Fwd Packet Length Max</th>\n",
              "      <th>Fwd Packet Length Mean</th>\n",
              "      <th>Fwd Packet Length Std</th>\n",
              "      <th>Bwd Packet Length Max</th>\n",
              "      <th>Bwd Packet Length Mean</th>\n",
              "      <th>Bwd Packet Length Std</th>\n",
              "      <th>...</th>\n",
              "      <th>Average Packet Size</th>\n",
              "      <th>Avg Fwd Segment Size</th>\n",
              "      <th>Avg Bwd Segment Size</th>\n",
              "      <th>Fwd Header Length.1</th>\n",
              "      <th>Subflow Fwd Packets</th>\n",
              "      <th>Subflow Fwd Bytes</th>\n",
              "      <th>Subflow Bwd Packets</th>\n",
              "      <th>Init_Win_bytes_forward</th>\n",
              "      <th>Init_Win_bytes_backward</th>\n",
              "      <th>act_data_pkt_fwd</th>\n",
              "    </tr>\n",
              "  </thead>\n",
              "  <tbody>\n",
              "    <tr>\n",
              "      <th>count</th>\n",
              "      <td>1.187782e+06</td>\n",
              "      <td>1.187782e+06</td>\n",
              "      <td>1.187782e+06</td>\n",
              "      <td>1.187782e+06</td>\n",
              "      <td>1.187782e+06</td>\n",
              "      <td>1.187782e+06</td>\n",
              "      <td>1.187782e+06</td>\n",
              "      <td>1.187782e+06</td>\n",
              "      <td>1.187782e+06</td>\n",
              "      <td>1.187782e+06</td>\n",
              "      <td>...</td>\n",
              "      <td>1.187782e+06</td>\n",
              "      <td>1.187782e+06</td>\n",
              "      <td>1.187782e+06</td>\n",
              "      <td>1.187782e+06</td>\n",
              "      <td>1.187782e+06</td>\n",
              "      <td>1.187782e+06</td>\n",
              "      <td>1.187782e+06</td>\n",
              "      <td>1.187782e+06</td>\n",
              "      <td>1.187782e+06</td>\n",
              "      <td>1.187782e+06</td>\n",
              "    </tr>\n",
              "    <tr>\n",
              "      <th>mean</th>\n",
              "      <td>1.292702e-01</td>\n",
              "      <td>4.283834e-05</td>\n",
              "      <td>3.984613e-05</td>\n",
              "      <td>6.554129e-04</td>\n",
              "      <td>1.633813e-02</td>\n",
              "      <td>2.760880e-02</td>\n",
              "      <td>2.148232e-02</td>\n",
              "      <td>1.317206e-01</td>\n",
              "      <td>9.931579e-02</td>\n",
              "      <td>9.193903e-02</td>\n",
              "      <td>...</td>\n",
              "      <td>1.352971e-01</td>\n",
              "      <td>2.760880e-02</td>\n",
              "      <td>9.931579e-02</td>\n",
              "      <td>5.263823e-05</td>\n",
              "      <td>4.283834e-05</td>\n",
              "      <td>6.554129e-04</td>\n",
              "      <td>3.984613e-05</td>\n",
              "      <td>7.788111e-02</td>\n",
              "      <td>2.096018e-02</td>\n",
              "      <td>3.796426e-05</td>\n",
              "    </tr>\n",
              "    <tr>\n",
              "      <th>std</th>\n",
              "      <td>2.921122e-01</td>\n",
              "      <td>3.710986e-03</td>\n",
              "      <td>3.656775e-03</td>\n",
              "      <td>4.810782e-03</td>\n",
              "      <td>6.237066e-02</td>\n",
              "      <td>9.371265e-02</td>\n",
              "      <td>9.218685e-02</td>\n",
              "      <td>2.338310e-01</td>\n",
              "      <td>1.615738e-01</td>\n",
              "      <td>1.745046e-01</td>\n",
              "      <td>...</td>\n",
              "      <td>1.925221e-01</td>\n",
              "      <td>9.371265e-02</td>\n",
              "      <td>1.615738e-01</td>\n",
              "      <td>3.723173e-03</td>\n",
              "      <td>3.710986e-03</td>\n",
              "      <td>4.810782e-03</td>\n",
              "      <td>3.656775e-03</td>\n",
              "      <td>1.635623e-01</td>\n",
              "      <td>1.085894e-01</td>\n",
              "      <td>3.712643e-03</td>\n",
              "    </tr>\n",
              "    <tr>\n",
              "      <th>min</th>\n",
              "      <td>0.000000e+00</td>\n",
              "      <td>0.000000e+00</td>\n",
              "      <td>0.000000e+00</td>\n",
              "      <td>0.000000e+00</td>\n",
              "      <td>0.000000e+00</td>\n",
              "      <td>0.000000e+00</td>\n",
              "      <td>0.000000e+00</td>\n",
              "      <td>0.000000e+00</td>\n",
              "      <td>0.000000e+00</td>\n",
              "      <td>0.000000e+00</td>\n",
              "      <td>...</td>\n",
              "      <td>0.000000e+00</td>\n",
              "      <td>0.000000e+00</td>\n",
              "      <td>0.000000e+00</td>\n",
              "      <td>0.000000e+00</td>\n",
              "      <td>0.000000e+00</td>\n",
              "      <td>0.000000e+00</td>\n",
              "      <td>0.000000e+00</td>\n",
              "      <td>0.000000e+00</td>\n",
              "      <td>0.000000e+00</td>\n",
              "      <td>0.000000e+00</td>\n",
              "    </tr>\n",
              "    <tr>\n",
              "      <th>25%</th>\n",
              "      <td>8.087652e-04</td>\n",
              "      <td>4.981221e-06</td>\n",
              "      <td>3.694317e-06</td>\n",
              "      <td>2.171736e-05</td>\n",
              "      <td>2.568493e-04</td>\n",
              "      <td>1.434358e-03</td>\n",
              "      <td>0.000000e+00</td>\n",
              "      <td>4.566210e-04</td>\n",
              "      <td>8.275149e-04</td>\n",
              "      <td>0.000000e+00</td>\n",
              "      <td>...</td>\n",
              "      <td>3.232759e-03</td>\n",
              "      <td>1.434358e-03</td>\n",
              "      <td>8.275149e-04</td>\n",
              "      <td>9.585265e-06</td>\n",
              "      <td>4.981221e-06</td>\n",
              "      <td>2.171736e-05</td>\n",
              "      <td>3.694317e-06</td>\n",
              "      <td>0.000000e+00</td>\n",
              "      <td>0.000000e+00</td>\n",
              "      <td>5.195048e-06</td>\n",
              "    </tr>\n",
              "    <tr>\n",
              "      <th>50%</th>\n",
              "      <td>1.220778e-03</td>\n",
              "      <td>9.962442e-06</td>\n",
              "      <td>7.388635e-06</td>\n",
              "      <td>4.009359e-05</td>\n",
              "      <td>8.561644e-04</td>\n",
              "      <td>2.103725e-03</td>\n",
              "      <td>0.000000e+00</td>\n",
              "      <td>6.849315e-03</td>\n",
              "      <td>1.430911e-02</td>\n",
              "      <td>0.000000e+00</td>\n",
              "      <td>...</td>\n",
              "      <td>3.071121e-02</td>\n",
              "      <td>2.103725e-03</td>\n",
              "      <td>1.430911e-02</td>\n",
              "      <td>1.725348e-05</td>\n",
              "      <td>9.962442e-06</td>\n",
              "      <td>4.009359e-05</td>\n",
              "      <td>7.388635e-06</td>\n",
              "      <td>3.921509e-03</td>\n",
              "      <td>1.525879e-05</td>\n",
              "      <td>1.039010e-05</td>\n",
              "    </tr>\n",
              "    <tr>\n",
              "      <th>75%</th>\n",
              "      <td>6.760056e-03</td>\n",
              "      <td>1.992488e-05</td>\n",
              "      <td>1.847159e-05</td>\n",
              "      <td>7.517547e-05</td>\n",
              "      <td>2.054795e-03</td>\n",
              "      <td>1.075768e-02</td>\n",
              "      <td>1.533505e-03</td>\n",
              "      <td>1.224505e-01</td>\n",
              "      <td>9.822429e-02</td>\n",
              "      <td>8.335953e-02</td>\n",
              "      <td>...</td>\n",
              "      <td>2.621004e-01</td>\n",
              "      <td>1.075768e-02</td>\n",
              "      <td>9.822429e-02</td>\n",
              "      <td>2.492169e-05</td>\n",
              "      <td>1.992488e-05</td>\n",
              "      <td>7.517547e-05</td>\n",
              "      <td>1.847159e-05</td>\n",
              "      <td>1.250153e-01</td>\n",
              "      <td>3.509521e-03</td>\n",
              "      <td>2.078019e-05</td>\n",
              "    </tr>\n",
              "    <tr>\n",
              "      <th>max</th>\n",
              "      <td>1.000000e+00</td>\n",
              "      <td>1.000000e+00</td>\n",
              "      <td>1.000000e+00</td>\n",
              "      <td>1.000000e+00</td>\n",
              "      <td>1.000000e+00</td>\n",
              "      <td>1.000000e+00</td>\n",
              "      <td>1.000000e+00</td>\n",
              "      <td>1.000000e+00</td>\n",
              "      <td>1.000000e+00</td>\n",
              "      <td>1.000000e+00</td>\n",
              "      <td>...</td>\n",
              "      <td>1.000000e+00</td>\n",
              "      <td>1.000000e+00</td>\n",
              "      <td>1.000000e+00</td>\n",
              "      <td>1.000000e+00</td>\n",
              "      <td>1.000000e+00</td>\n",
              "      <td>1.000000e+00</td>\n",
              "      <td>1.000000e+00</td>\n",
              "      <td>1.000000e+00</td>\n",
              "      <td>1.000000e+00</td>\n",
              "      <td>1.000000e+00</td>\n",
              "    </tr>\n",
              "  </tbody>\n",
              "</table>\n",
              "<p>8 rows × 36 columns</p>\n",
              "</div>\n",
              "      <button class=\"colab-df-convert\" onclick=\"convertToInteractive('df-b54e2d09-64cb-462b-8493-104d839c1702')\"\n",
              "              title=\"Convert this dataframe to an interactive table.\"\n",
              "              style=\"display:none;\">\n",
              "        \n",
              "  <svg xmlns=\"http://www.w3.org/2000/svg\" height=\"24px\"viewBox=\"0 0 24 24\"\n",
              "       width=\"24px\">\n",
              "    <path d=\"M0 0h24v24H0V0z\" fill=\"none\"/>\n",
              "    <path d=\"M18.56 5.44l.94 2.06.94-2.06 2.06-.94-2.06-.94-.94-2.06-.94 2.06-2.06.94zm-11 1L8.5 8.5l.94-2.06 2.06-.94-2.06-.94L8.5 2.5l-.94 2.06-2.06.94zm10 10l.94 2.06.94-2.06 2.06-.94-2.06-.94-.94-2.06-.94 2.06-2.06.94z\"/><path d=\"M17.41 7.96l-1.37-1.37c-.4-.4-.92-.59-1.43-.59-.52 0-1.04.2-1.43.59L10.3 9.45l-7.72 7.72c-.78.78-.78 2.05 0 2.83L4 21.41c.39.39.9.59 1.41.59.51 0 1.02-.2 1.41-.59l7.78-7.78 2.81-2.81c.8-.78.8-2.07 0-2.86zM5.41 20L4 18.59l7.72-7.72 1.47 1.35L5.41 20z\"/>\n",
              "  </svg>\n",
              "      </button>\n",
              "      \n",
              "  <style>\n",
              "    .colab-df-container {\n",
              "      display:flex;\n",
              "      flex-wrap:wrap;\n",
              "      gap: 12px;\n",
              "    }\n",
              "\n",
              "    .colab-df-convert {\n",
              "      background-color: #E8F0FE;\n",
              "      border: none;\n",
              "      border-radius: 50%;\n",
              "      cursor: pointer;\n",
              "      display: none;\n",
              "      fill: #1967D2;\n",
              "      height: 32px;\n",
              "      padding: 0 0 0 0;\n",
              "      width: 32px;\n",
              "    }\n",
              "\n",
              "    .colab-df-convert:hover {\n",
              "      background-color: #E2EBFA;\n",
              "      box-shadow: 0px 1px 2px rgba(60, 64, 67, 0.3), 0px 1px 3px 1px rgba(60, 64, 67, 0.15);\n",
              "      fill: #174EA6;\n",
              "    }\n",
              "\n",
              "    [theme=dark] .colab-df-convert {\n",
              "      background-color: #3B4455;\n",
              "      fill: #D2E3FC;\n",
              "    }\n",
              "\n",
              "    [theme=dark] .colab-df-convert:hover {\n",
              "      background-color: #434B5C;\n",
              "      box-shadow: 0px 1px 3px 1px rgba(0, 0, 0, 0.15);\n",
              "      filter: drop-shadow(0px 1px 2px rgba(0, 0, 0, 0.3));\n",
              "      fill: #FFFFFF;\n",
              "    }\n",
              "  </style>\n",
              "\n",
              "      <script>\n",
              "        const buttonEl =\n",
              "          document.querySelector('#df-b54e2d09-64cb-462b-8493-104d839c1702 button.colab-df-convert');\n",
              "        buttonEl.style.display =\n",
              "          google.colab.kernel.accessAllowed ? 'block' : 'none';\n",
              "\n",
              "        async function convertToInteractive(key) {\n",
              "          const element = document.querySelector('#df-b54e2d09-64cb-462b-8493-104d839c1702');\n",
              "          const dataTable =\n",
              "            await google.colab.kernel.invokeFunction('convertToInteractive',\n",
              "                                                     [key], {});\n",
              "          if (!dataTable) return;\n",
              "\n",
              "          const docLinkHtml = 'Like what you see? Visit the ' +\n",
              "            '<a target=\"_blank\" href=https://colab.research.google.com/notebooks/data_table.ipynb>data table notebook</a>'\n",
              "            + ' to learn more about interactive tables.';\n",
              "          element.innerHTML = '';\n",
              "          dataTable['output_type'] = 'display_data';\n",
              "          await google.colab.output.renderOutput(dataTable, element);\n",
              "          const docLink = document.createElement('div');\n",
              "          docLink.innerHTML = docLinkHtml;\n",
              "          element.appendChild(docLink);\n",
              "        }\n",
              "      </script>\n",
              "    </div>\n",
              "  </div>\n",
              "  "
            ]
          },
          "metadata": {},
          "execution_count": 14
        }
      ]
    },
    {
      "cell_type": "markdown",
      "source": [
        "Con el fin de generar imágenes readecuamos el array"
      ],
      "metadata": {
        "id": "-1OTl7ZJ5o0j"
      }
    },
    {
      "cell_type": "code",
      "source": [
        "X_np = X_sc.to_numpy()\n",
        "X_img = X_np.reshape(X_sc.shape[0],6,6,1)\n",
        "print(X_img.shape)"
      ],
      "metadata": {
        "colab": {
          "base_uri": "https://localhost:8080/"
        },
        "id": "h1_nj8tEvs4q",
        "outputId": "e4a353ad-f7c6-45d7-e684-3e8fbd2a1534"
      },
      "execution_count": null,
      "outputs": [
        {
          "output_type": "stream",
          "name": "stdout",
          "text": [
            "(1187782, 6, 6, 1)\n"
          ]
        }
      ]
    },
    {
      "cell_type": "markdown",
      "source": [
        "Validemos como se vería la transformación realizada a imagen para cada registro. Tomemos uno aleatoriamente\n",
        "\n",
        "\n"
      ],
      "metadata": {
        "id": "l0H8R4noxhED"
      }
    },
    {
      "cell_type": "code",
      "source": [
        "idx = random.randint(0,X_np.shape[0])\n",
        "p = 255 * X_np[idx,:]\n",
        "p = p.astype('int32')\n",
        "p = p.reshape(6,6)\n",
        "img = Image.fromarray(p)\n",
        "img = img.convert('L')\n",
        "img = img.resize((100,100),Image.NEAREST)\n",
        "\n",
        "print('Clase')\n",
        "print(dict_bin[y_bin[idx]])\n",
        "print('')\n",
        "\n",
        "print(p)\n",
        "print('')\n",
        "\n",
        "img"
      ],
      "metadata": {
        "colab": {
          "base_uri": "https://localhost:8080/",
          "height": 296
        },
        "id": "ZkVmia9qwY74",
        "outputId": "d8414d0e-aa1b-4def-cc04-b9d35e14b18e"
      },
      "execution_count": null,
      "outputs": [
        {
          "output_type": "stream",
          "name": "stdout",
          "text": [
            "Clase\n",
            "ATTACK\n",
            "\n",
            "[[  0   0   0   0   0   0]\n",
            " [  0 113  85  68   0   0]\n",
            " [  1   0   0   0   0   0]\n",
            " [  0   0   0  63 137 103]\n",
            " [ 41   0 118   0  85   0]\n",
            " [  0   0   0  31   0   0]]\n",
            "\n"
          ]
        },
        {
          "output_type": "execute_result",
          "data": {
            "text/plain": [
              "<PIL.Image.Image image mode=L size=100x100 at 0x7FD1761C54D0>"
            ],
            "image/png": "[encoded data removed]"
          },
          "metadata": {},
          "execution_count": 241
        }
      ]
    },
    {
      "cell_type": "markdown",
      "source": [
        "Datos para modelos de 2 clases"
      ],
      "metadata": {
        "id": "7Y76xCMQufvQ"
      }
    },
    {
      "cell_type": "code",
      "source": [
        "x_train, x_test, y_train, y_test = train_test_split(X_img, y_bin, test_size=.25)\n",
        "print (x_train.shape, y_train.shape, x_test.shape, y_test.shape)\n",
        "print (\"\\nDistribución de clases para entrenamiento\")\n",
        "print (pd.Series(y_train).value_counts())\n",
        "print (\"\\nDistribución de clases para prueba\")\n",
        "print (pd.Series(y_test).value_counts())"
      ],
      "metadata": {
        "colab": {
          "base_uri": "https://localhost:8080/"
        },
        "id": "6UNQhV6qDp_r",
        "outputId": "1f51baed-9906-43d2-b576-2aa685b58555"
      },
      "execution_count": null,
      "outputs": [
        {
          "output_type": "stream",
          "name": "stdout",
          "text": [
            "(890836, 6, 6, 1) (890836,) (296946, 6, 6, 1) (296946,)\n",
            "\n",
            "Distribución de clases para entrenamiento\n",
            "1    598002\n",
            "0    292834\n",
            "Name: Class, dtype: int64\n",
            "\n",
            "Distribución de clases para prueba\n",
            "1    199778\n",
            "0     97168\n",
            "Name: Class, dtype: int64\n"
          ]
        }
      ]
    },
    {
      "cell_type": "markdown",
      "source": [
        "Datos para modelos de 5 clases"
      ],
      "metadata": {
        "id": "FxIBsrvdujWD"
      }
    },
    {
      "cell_type": "code",
      "source": [
        "xm_train, xm_test, ym_train, ym_test = train_test_split(X_img, y_multi, test_size=.25)\n",
        "print (xm_train.shape, ym_train.shape, xm_test.shape, ym_test.shape)\n",
        "print (\"\\nDistribución de clases para entrenamiento\")\n",
        "print (pd.Series(ym_train).value_counts())\n",
        "print (\"\\nDistribución de clases para prueba\")\n",
        "print (pd.Series(ym_test).value_counts())"
      ],
      "metadata": {
        "colab": {
          "base_uri": "https://localhost:8080/"
        },
        "id": "tiSrBDmvunHX",
        "outputId": "9c2b5f37-39ed-44fb-b20d-98e068de6040"
      },
      "execution_count": null,
      "outputs": [
        {
          "output_type": "stream",
          "name": "stdout",
          "text": [
            "(890836, 6, 6, 1) (890836,) (296946, 6, 6, 1) (296946,)\n",
            "\n",
            "Distribución de clases para entrenamiento\n",
            "1    598517\n",
            "0    287459\n",
            "2      3364\n",
            "3      1448\n",
            "4        48\n",
            "Name: Class, dtype: int64\n",
            "\n",
            "Distribución de clases para prueba\n",
            "1    199263\n",
            "0     95971\n",
            "2      1186\n",
            "3       514\n",
            "4        12\n",
            "Name: Class, dtype: int64\n"
          ]
        }
      ]
    },
    {
      "cell_type": "markdown",
      "source": [
        "# Modelos"
      ],
      "metadata": {
        "id": "s9gRHIY8lMW_"
      }
    },
    {
      "cell_type": "markdown",
      "source": [
        "## Modelo A. DS No balanceado + 2 clases + 1 Conv sin dropout"
      ],
      "metadata": {
        "id": "KRI0Q3OSlt-j"
      }
    },
    {
      "cell_type": "code",
      "source": [
        "def get_conv_model_A(num_classes, img_size=6, compile=True):\n",
        "    tf.keras.backend.clear_session()\n",
        "    print (\"using\",num_classes,\"classes\")\n",
        "    inputs = tf.keras.Input(shape=(img_size,img_size,1), name=\"input_1\")\n",
        "    layers = tf.keras.layers.Conv2D(15,(3,3), activation=\"relu\", padding=\"SAME\")(inputs)\n",
        "    layers = tf.keras.layers.Flatten()(layers)\n",
        "    predictions = tf.keras.layers.Dense(num_classes, activation=tf.nn.softmax, name=\"output_1\")(layers)\n",
        "    model = tf.keras.Model(inputs = inputs, outputs=predictions)\n",
        "    if compile:\n",
        "        model.compile(optimizer='adam',\n",
        "                      loss='sparse_categorical_crossentropy',\n",
        "                      metrics=['accuracy'])\n",
        "    return model"
      ],
      "metadata": {
        "id": "SIKjdw3Cl2li"
      },
      "execution_count": null,
      "outputs": []
    },
    {
      "cell_type": "code",
      "source": [
        "num_classes = len(np.unique(y_bin))\n",
        "model = get_conv_model_A(num_classes)"
      ],
      "metadata": {
        "colab": {
          "base_uri": "https://localhost:8080/"
        },
        "id": "EUGkb7lbndWB",
        "outputId": "0a1a6045-78fc-4a04-8487-127b6c2eccfd"
      },
      "execution_count": null,
      "outputs": [
        {
          "output_type": "stream",
          "name": "stdout",
          "text": [
            "using 2 classes\n"
          ]
        }
      ]
    },
    {
      "cell_type": "code",
      "source": [
        "def train(model, batch_size, epochs, model_name=\"\"):\n",
        "    tensorboard = tf.keras.callbacks.TensorBoard(log_dir=\"logs/\"+model_name+\"_\"+\"{}\".format(time()))\n",
        "    model.reset_states()\n",
        "    model.fit(x_train, y_train, epochs=epochs, callbacks=[tensorboard],\n",
        "              batch_size=batch_size,\n",
        "              validation_data=(x_test, y_test))\n",
        "    metrics = model.evaluate(x_test, y_test)\n",
        "    return {k:v for k,v in zip (model.metrics_names, metrics)}"
      ],
      "metadata": {
        "id": "Z94v1cWyndTn"
      },
      "execution_count": null,
      "outputs": []
    },
    {
      "cell_type": "code",
      "source": [
        "model = get_conv_model_A(num_classes)\n",
        "model.summary()"
      ],
      "metadata": {
        "colab": {
          "base_uri": "https://localhost:8080/"
        },
        "id": "It9Y_obIny0B",
        "outputId": "c4f621ab-528e-4a75-f304-0569e4f6667a"
      },
      "execution_count": null,
      "outputs": [
        {
          "output_type": "stream",
          "name": "stdout",
          "text": [
            "using 2 classes\n",
            "Model: \"model\"\n",
            "_________________________________________________________________\n",
            " Layer (type)                Output Shape              Param #   \n",
            "=================================================================\n",
            " input_1 (InputLayer)        [(None, 6, 6, 1)]         0         \n",
            "                                                                 \n",
            " conv2d (Conv2D)             (None, 6, 6, 15)          150       \n",
            "                                                                 \n",
            " flatten (Flatten)           (None, 540)               0         \n",
            "                                                                 \n",
            " output_1 (Dense)            (None, 2)                 1082      \n",
            "                                                                 \n",
            "=================================================================\n",
            "Total params: 1,232\n",
            "Trainable params: 1,232\n",
            "Non-trainable params: 0\n",
            "_________________________________________________________________\n"
          ]
        }
      ]
    },
    {
      "cell_type": "code",
      "source": [
        "train(model, batch_size=32, epochs=10, model_name=\"model_A\")"
      ],
      "metadata": {
        "colab": {
          "base_uri": "https://localhost:8080/"
        },
        "id": "UhC7qQNDn8ES",
        "outputId": "36539123-1003-4da2-d889-69e89ae2072f"
      },
      "execution_count": null,
      "outputs": [
        {
          "output_type": "stream",
          "name": "stdout",
          "text": [
            "Epoch 1/10\n",
            "27839/27839 [==============================] - 68s 2ms/step - loss: 0.0483 - accuracy: 0.9830 - val_loss: 0.0268 - val_accuracy: 0.9912\n",
            "Epoch 2/10\n",
            "27839/27839 [==============================] - 78s 3ms/step - loss: 0.0258 - accuracy: 0.9903 - val_loss: 0.0233 - val_accuracy: 0.9910\n",
            "Epoch 3/10\n",
            "27839/27839 [==============================] - 77s 3ms/step - loss: 0.0218 - accuracy: 0.9917 - val_loss: 0.0193 - val_accuracy: 0.9931\n",
            "Epoch 4/10\n",
            "27839/27839 [==============================] - 66s 2ms/step - loss: 0.0184 - accuracy: 0.9934 - val_loss: 0.0184 - val_accuracy: 0.9952\n",
            "Epoch 5/10\n",
            "27839/27839 [==============================] - 82s 3ms/step - loss: 0.0163 - accuracy: 0.9944 - val_loss: 0.0142 - val_accuracy: 0.9957\n",
            "Epoch 6/10\n",
            "27839/27839 [==============================] - 85s 3ms/step - loss: 0.0147 - accuracy: 0.9951 - val_loss: 0.0132 - val_accuracy: 0.9954\n",
            "Epoch 7/10\n",
            "27839/27839 [==============================] - 83s 3ms/step - loss: 0.0135 - accuracy: 0.9954 - val_loss: 0.0117 - val_accuracy: 0.9962\n",
            "Epoch 8/10\n",
            "27839/27839 [==============================] - 73s 3ms/step - loss: 0.0125 - accuracy: 0.9957 - val_loss: 0.0108 - val_accuracy: 0.9965\n",
            "Epoch 9/10\n",
            "27839/27839 [==============================] - 82s 3ms/step - loss: 0.0116 - accuracy: 0.9962 - val_loss: 0.0109 - val_accuracy: 0.9948\n",
            "Epoch 10/10\n",
            "27839/27839 [==============================] - 81s 3ms/step - loss: 0.0109 - accuracy: 0.9965 - val_loss: 0.0100 - val_accuracy: 0.9975\n",
            "9280/9280 [==============================] - 13s 1ms/step - loss: 0.0100 - accuracy: 0.9975\n"
          ]
        },
        {
          "output_type": "execute_result",
          "data": {
            "text/plain": [
              "{'accuracy': 0.9974541068077087, 'loss': 0.009975816123187542}"
            ]
          },
          "metadata": {},
          "execution_count": 246
        }
      ]
    },
    {
      "cell_type": "code",
      "source": [
        "y_preds = model.predict(x_test).argmax(axis=1)"
      ],
      "metadata": {
        "id": "bZbcz9JfpY-_"
      },
      "execution_count": null,
      "outputs": []
    },
    {
      "cell_type": "code",
      "source": [
        "matrix_conf(y_test, y_preds, dict_bin.values())"
      ],
      "metadata": {
        "colab": {
          "base_uri": "https://localhost:8080/",
          "height": 624
        },
        "id": "xnUmehjcpbjS",
        "outputId": "ac6dac4d-e747-462b-898d-52f59cb3f6d4"
      },
      "execution_count": null,
      "outputs": [
        {
          "output_type": "display_data",
          "data": {
            "text/plain": [
              "<Figure size 720x720 with 2 Axes>"
            ],
            "image/png": "[encoded data removed]"
          },
          "metadata": {
            "needs_background": "light"
          }
        },
        {
          "output_type": "execute_result",
          "data": {
            "text/plain": [
              "<matplotlib.axes._subplots.AxesSubplot at 0x7fd17375f450>"
            ]
          },
          "metadata": {},
          "execution_count": 249
        }
      ]
    },
    {
      "cell_type": "code",
      "source": [
        "model.evaluate"
      ],
      "metadata": {
        "id": "kyf8tlhBN6qH"
      },
      "execution_count": null,
      "outputs": []
    },
    {
      "cell_type": "code",
      "source": [
        ""
      ],
      "metadata": {
        "id": "frtiYxbTN6nz"
      },
      "execution_count": null,
      "outputs": []
    },
    {
      "cell_type": "markdown",
      "source": [
        "## Modelo B. DS no balanceado + 5 clases + 1 Conv sin droput"
      ],
      "metadata": {
        "id": "jq2HpKV9vj7z"
      }
    },
    {
      "cell_type": "code",
      "source": [
        "def get_conv_model_B(num_classes, img_size=6, compile=True):\n",
        "    tf.keras.backend.clear_session()\n",
        "    print (\"using\",num_classes,\"classes\")\n",
        "    inputs = tf.keras.Input(shape=(img_size,img_size,1), name=\"input_1\")\n",
        "    layers = tf.keras.layers.Conv2D(15,(3,3), activation=\"relu\", padding=\"SAME\")(inputs)\n",
        "    layers = tf.keras.layers.Flatten()(layers)\n",
        "    predictions = tf.keras.layers.Dense(num_classes, activation=tf.nn.softmax, name=\"output_1\")(layers)\n",
        "    model = tf.keras.Model(inputs = inputs, outputs=predictions)\n",
        "    if compile:\n",
        "        model.compile(optimizer='adam',\n",
        "                      loss='sparse_categorical_crossentropy',\n",
        "                      metrics=['accuracy'])\n",
        "    return model"
      ],
      "metadata": {
        "id": "K4UzdRGBvvm3"
      },
      "execution_count": null,
      "outputs": []
    },
    {
      "cell_type": "code",
      "source": [
        "num_classes = len(np.unique(y_multi))\n",
        "model = get_conv_model_B(num_classes)"
      ],
      "metadata": {
        "colab": {
          "base_uri": "https://localhost:8080/"
        },
        "id": "nOP_xFeAv4mB",
        "outputId": "099640e8-8b95-483e-cd89-badb1ef1260d"
      },
      "execution_count": null,
      "outputs": [
        {
          "output_type": "stream",
          "name": "stdout",
          "text": [
            "using 5 classes\n"
          ]
        }
      ]
    },
    {
      "cell_type": "code",
      "source": [
        "def train(model, batch_size, epochs, model_name=\"\"):\n",
        "    tensorboard = tf.keras.callbacks.TensorBoard(log_dir=\"logs/\"+model_name+\"_\"+\"{}\".format(time()))\n",
        "    model.reset_states()\n",
        "    model.fit(xm_train, ym_train, epochs=epochs, callbacks=[tensorboard],\n",
        "              batch_size=batch_size,\n",
        "              validation_data=(xm_test, ym_test))\n",
        "    metrics = model.evaluate(xm_test, ym_test)\n",
        "    return {k:v for k,v in zip (model.metrics_names, metrics)}"
      ],
      "metadata": {
        "id": "GfwiuJ45v4j9"
      },
      "execution_count": null,
      "outputs": []
    },
    {
      "cell_type": "code",
      "source": [
        "model = get_conv_model_B(num_classes)\n",
        "model.summary()"
      ],
      "metadata": {
        "colab": {
          "base_uri": "https://localhost:8080/"
        },
        "id": "weOkpATkwGck",
        "outputId": "a97200ed-1361-4cf9-a58d-bf0d16edca4e"
      },
      "execution_count": null,
      "outputs": [
        {
          "output_type": "stream",
          "name": "stdout",
          "text": [
            "using 5 classes\n",
            "Model: \"model\"\n",
            "_________________________________________________________________\n",
            " Layer (type)                Output Shape              Param #   \n",
            "=================================================================\n",
            " input_1 (InputLayer)        [(None, 6, 6, 1)]         0         \n",
            "                                                                 \n",
            " conv2d (Conv2D)             (None, 6, 6, 15)          150       \n",
            "                                                                 \n",
            " flatten (Flatten)           (None, 540)               0         \n",
            "                                                                 \n",
            " output_1 (Dense)            (None, 5)                 2705      \n",
            "                                                                 \n",
            "=================================================================\n",
            "Total params: 2,855\n",
            "Trainable params: 2,855\n",
            "Non-trainable params: 0\n",
            "_________________________________________________________________\n"
          ]
        }
      ]
    },
    {
      "cell_type": "code",
      "source": [
        "train(model, batch_size=32, epochs=10, model_name=\"model_B\")"
      ],
      "metadata": {
        "colab": {
          "base_uri": "https://localhost:8080/"
        },
        "id": "rAn8eb8KwRUf",
        "outputId": "e0cda5d0-77c8-4594-9e72-9910b9338628"
      },
      "execution_count": null,
      "outputs": [
        {
          "output_type": "stream",
          "name": "stdout",
          "text": [
            "Epoch 1/10\n",
            "27839/27839 [==============================] - 86s 3ms/step - loss: 0.0529 - accuracy: 0.9810 - val_loss: 0.0293 - val_accuracy: 0.9889\n",
            "Epoch 2/10\n",
            "27839/27839 [==============================] - 102s 4ms/step - loss: 0.0277 - accuracy: 0.9889 - val_loss: 0.0281 - val_accuracy: 0.9882\n",
            "Epoch 3/10\n",
            "27839/27839 [==============================] - 83s 3ms/step - loss: 0.0250 - accuracy: 0.9899 - val_loss: 0.0234 - val_accuracy: 0.9906\n",
            "Epoch 4/10\n",
            "27839/27839 [==============================] - 73s 3ms/step - loss: 0.0222 - accuracy: 0.9912 - val_loss: 0.0203 - val_accuracy: 0.9903\n",
            "Epoch 5/10\n",
            "27839/27839 [==============================] - 81s 3ms/step - loss: 0.0197 - accuracy: 0.9926 - val_loss: 0.0178 - val_accuracy: 0.9928\n",
            "Epoch 6/10\n",
            "27839/27839 [==============================] - 80s 3ms/step - loss: 0.0180 - accuracy: 0.9936 - val_loss: 0.0164 - val_accuracy: 0.9929\n",
            "Epoch 7/10\n",
            "27839/27839 [==============================] - 81s 3ms/step - loss: 0.0169 - accuracy: 0.9944 - val_loss: 0.0156 - val_accuracy: 0.9951\n",
            "Epoch 8/10\n",
            "27839/27839 [==============================] - 70s 3ms/step - loss: 0.0158 - accuracy: 0.9949 - val_loss: 0.0146 - val_accuracy: 0.9942\n",
            "Epoch 9/10\n",
            "27839/27839 [==============================] - 70s 3ms/step - loss: 0.0150 - accuracy: 0.9953 - val_loss: 0.0137 - val_accuracy: 0.9950\n",
            "Epoch 10/10\n",
            "27839/27839 [==============================] - 79s 3ms/step - loss: 0.0142 - accuracy: 0.9955 - val_loss: 0.0135 - val_accuracy: 0.9958\n",
            "9280/9280 [==============================] - 14s 1ms/step - loss: 0.0135 - accuracy: 0.9958\n"
          ]
        },
        {
          "output_type": "execute_result",
          "data": {
            "text/plain": [
              "{'accuracy': 0.995770275592804, 'loss': 0.013492773286998272}"
            ]
          },
          "metadata": {},
          "execution_count": 270
        }
      ]
    },
    {
      "cell_type": "code",
      "source": [
        "ym_preds = model.predict(xm_test).argmax(axis=1)"
      ],
      "metadata": {
        "id": "VTqtwqxOwRSt"
      },
      "execution_count": null,
      "outputs": []
    },
    {
      "cell_type": "code",
      "source": [
        "matrix_conf(ym_test, ym_preds, dict_multi.values())"
      ],
      "metadata": {
        "colab": {
          "base_uri": "https://localhost:8080/",
          "height": 742
        },
        "id": "0gNBvNBqw5eH",
        "outputId": "ece4bc9f-c932-461e-ba95-673987965dcb"
      },
      "execution_count": null,
      "outputs": [
        {
          "output_type": "display_data",
          "data": {
            "text/plain": [
              "<Figure size 720x720 with 2 Axes>"
            ],
            "image/png": "[encoded data removed]"
          },
          "metadata": {
            "needs_background": "light"
          }
        },
        {
          "output_type": "execute_result",
          "data": {
            "text/plain": [
              "<matplotlib.axes._subplots.AxesSubplot at 0x7fd17583e110>"
            ]
          },
          "metadata": {},
          "execution_count": 273
        }
      ]
    },
    {
      "cell_type": "markdown",
      "source": [
        "## Modelo C. DS no balanceado + 5 clases + 1 Conv 1 Dense con dropout\n",
        "\n",
        "\n"
      ],
      "metadata": {
        "id": "epz29bRUlY2P"
      }
    },
    {
      "cell_type": "code",
      "source": [
        "def get_conv_model_C(num_classes, img_size=6, compile=True):\n",
        "    tf.keras.backend.clear_session()\n",
        "    print (\"using\",num_classes,\"classes\")\n",
        "    inputs = tf.keras.Input(shape=(img_size,img_size,1), name=\"input_1\")\n",
        "    layers = tf.keras.layers.Conv2D(15,(3,3), activation=\"relu\", padding=\"SAME\")(inputs)\n",
        "    layers = tf.keras.layers.Flatten()(layers)\n",
        "    layers = tf.keras.layers.Dense(16, activation=tf.nn.relu)(layers)\n",
        "    layers = tf.keras.layers.Dropout(0.2)(layers)\n",
        "    predictions = tf.keras.layers.Dense(num_classes, activation=tf.nn.softmax, name=\"output_1\")(layers)\n",
        "    model = tf.keras.Model(inputs = inputs, outputs=predictions)\n",
        "    if compile:\n",
        "        model.compile(optimizer='adam',\n",
        "                      loss='sparse_categorical_crossentropy',\n",
        "                      metrics=['accuracy'])\n",
        "    return model"
      ],
      "metadata": {
        "id": "0LW6y6v1phuK"
      },
      "execution_count": null,
      "outputs": []
    },
    {
      "cell_type": "code",
      "source": [
        "num_classes = len(np.unique(y_multi))\n",
        "model = get_conv_model_C(num_classes)"
      ],
      "metadata": {
        "colab": {
          "base_uri": "https://localhost:8080/"
        },
        "id": "pMXyfukIpocL",
        "outputId": "f04905f5-a6a8-4ab4-9144-37991caf1eba"
      },
      "execution_count": null,
      "outputs": [
        {
          "output_type": "stream",
          "name": "stdout",
          "text": [
            "using 5 classes\n"
          ]
        }
      ]
    },
    {
      "cell_type": "code",
      "source": [
        "def train(model, batch_size, epochs, model_name=\"\"):\n",
        "    tensorboard = tf.keras.callbacks.TensorBoard(log_dir=\"logs/\"+model_name+\"_\"+\"{}\".format(time()))\n",
        "    model.reset_states()\n",
        "    model.fit(xm_train, ym_train, epochs=epochs, callbacks=[tensorboard],\n",
        "              batch_size=batch_size,\n",
        "              validation_data=(xm_test, ym_test))\n",
        "    metrics = model.evaluate(xm_test, ym_test)\n",
        "    return {k:v for k,v in zip (model.metrics_names, metrics)}\n"
      ],
      "metadata": {
        "id": "Hs3W8HqRqMHT"
      },
      "execution_count": null,
      "outputs": []
    },
    {
      "cell_type": "code",
      "source": [
        "model = get_conv_model_C(num_classes)\n",
        "model.summary()"
      ],
      "metadata": {
        "colab": {
          "base_uri": "https://localhost:8080/"
        },
        "id": "Jl52-tUeqTC2",
        "outputId": "610a94e6-06e5-4400-bba8-7fff7f471297"
      },
      "execution_count": null,
      "outputs": [
        {
          "output_type": "stream",
          "name": "stdout",
          "text": [
            "using 5 classes\n",
            "Model: \"model\"\n",
            "_________________________________________________________________\n",
            " Layer (type)                Output Shape              Param #   \n",
            "=================================================================\n",
            " input_1 (InputLayer)        [(None, 6, 6, 1)]         0         \n",
            "                                                                 \n",
            " conv2d (Conv2D)             (None, 6, 6, 15)          150       \n",
            "                                                                 \n",
            " flatten (Flatten)           (None, 540)               0         \n",
            "                                                                 \n",
            " dense (Dense)               (None, 16)                8656      \n",
            "                                                                 \n",
            " dropout (Dropout)           (None, 16)                0         \n",
            "                                                                 \n",
            " output_1 (Dense)            (None, 5)                 85        \n",
            "                                                                 \n",
            "=================================================================\n",
            "Total params: 8,891\n",
            "Trainable params: 8,891\n",
            "Non-trainable params: 0\n",
            "_________________________________________________________________\n"
          ]
        }
      ]
    },
    {
      "cell_type": "code",
      "source": [
        "train(model, batch_size=32, epochs=10, model_name=\"model_C\")"
      ],
      "metadata": {
        "colab": {
          "base_uri": "https://localhost:8080/"
        },
        "id": "QWSdj307qWxe",
        "outputId": "5f3a77fb-dd19-4111-ea5e-1cb5519ea86f"
      },
      "execution_count": null,
      "outputs": [
        {
          "output_type": "stream",
          "name": "stdout",
          "text": [
            "Epoch 1/10\n",
            "27839/27839 [==============================] - 85s 3ms/step - loss: 0.0477 - accuracy: 0.9833 - val_loss: 0.0239 - val_accuracy: 0.9899\n",
            "Epoch 2/10\n",
            "27839/27839 [==============================] - 74s 3ms/step - loss: 0.0246 - accuracy: 0.9906 - val_loss: 0.0208 - val_accuracy: 0.9914\n",
            "Epoch 3/10\n",
            "27839/27839 [==============================] - 82s 3ms/step - loss: 0.0205 - accuracy: 0.9923 - val_loss: 0.0169 - val_accuracy: 0.9929\n",
            "Epoch 4/10\n",
            "27839/27839 [==============================] - 71s 3ms/step - loss: 0.0169 - accuracy: 0.9937 - val_loss: 0.0146 - val_accuracy: 0.9931\n",
            "Epoch 5/10\n",
            "27839/27839 [==============================] - 71s 3ms/step - loss: 0.0149 - accuracy: 0.9945 - val_loss: 0.0116 - val_accuracy: 0.9955\n",
            "Epoch 6/10\n",
            "27839/27839 [==============================] - 82s 3ms/step - loss: 0.0133 - accuracy: 0.9949 - val_loss: 0.0114 - val_accuracy: 0.9956\n",
            "Epoch 7/10\n",
            "27839/27839 [==============================] - 71s 3ms/step - loss: 0.0127 - accuracy: 0.9951 - val_loss: 0.0100 - val_accuracy: 0.9958\n",
            "Epoch 8/10\n",
            "27839/27839 [==============================] - 81s 3ms/step - loss: 0.0122 - accuracy: 0.9952 - val_loss: 0.0096 - val_accuracy: 0.9958\n",
            "Epoch 9/10\n",
            "27839/27839 [==============================] - 82s 3ms/step - loss: 0.0117 - accuracy: 0.9954 - val_loss: 0.0094 - val_accuracy: 0.9958\n",
            "Epoch 10/10\n",
            "27839/27839 [==============================] - 71s 3ms/step - loss: 0.0113 - accuracy: 0.9955 - val_loss: 0.0093 - val_accuracy: 0.9960\n",
            "9280/9280 [==============================] - 14s 1ms/step - loss: 0.0093 - accuracy: 0.9960\n"
          ]
        },
        {
          "output_type": "execute_result",
          "data": {
            "text/plain": [
              "{'accuracy': 0.9959554672241211, 'loss': 0.009310870431363583}"
            ]
          },
          "metadata": {},
          "execution_count": 304
        }
      ]
    },
    {
      "cell_type": "code",
      "source": [
        "ym_preds = model.predict(xm_test).argmax(axis=1)"
      ],
      "metadata": {
        "id": "9Bl5QYxG5PsF"
      },
      "execution_count": null,
      "outputs": []
    },
    {
      "cell_type": "code",
      "source": [
        "matrix_conf(ym_test, ym_preds, dict_multi.values())"
      ],
      "metadata": {
        "colab": {
          "base_uri": "https://localhost:8080/",
          "height": 746
        },
        "id": "JnfINladbbJb",
        "outputId": "f87f8623-ea3b-4e38-f9ff-50aae5f96f56"
      },
      "execution_count": null,
      "outputs": [
        {
          "output_type": "display_data",
          "data": {
            "text/plain": [
              "<Figure size 720x720 with 2 Axes>"
            ],
            "image/png": "[encoded data removed]"
          },
          "metadata": {
            "needs_background": "light"
          }
        },
        {
          "output_type": "execute_result",
          "data": {
            "text/plain": [
              "<matplotlib.axes._subplots.AxesSubplot at 0x7fd17540a850>"
            ]
          },
          "metadata": {},
          "execution_count": 306
        }
      ]
    },
    {
      "cell_type": "markdown",
      "source": [
        "## Modelo D. DS no balanceado + 5 clases + 2 Conv 1 Dense con dropout/pooling"
      ],
      "metadata": {
        "id": "oVnvAnS7H-OZ"
      }
    },
    {
      "cell_type": "code",
      "source": [
        "def get_conv_model_D(num_classes, img_size=6, compile=True):\n",
        "    tf.keras.backend.clear_session()\n",
        "    print (\"using\",num_classes,\"classes\")\n",
        "    inputs = tf.keras.Input(shape=(img_size,img_size,1), name=\"input_1\")\n",
        "    layers = tf.keras.layers.Conv2D(15,(2,2), activation=\"relu\")(inputs)\n",
        "    layers = tf.keras.layers.MaxPool2D((2,2))(layers)\n",
        "    layers = tf.keras.layers.Conv2D(60,(2,2), activation=\"relu\")(layers)\n",
        "    layers = tf.keras.layers.Flatten()(layers)\n",
        "    layers = tf.keras.layers.Dense(16, activation=tf.nn.relu)(layers)\n",
        "    layers = tf.keras.layers.Dropout(0.2)(layers)\n",
        "    predictions = tf.keras.layers.Dense(num_classes, activation=tf.nn.softmax, name=\"output_1\")(layers)\n",
        "    model = tf.keras.Model(inputs = inputs, outputs=predictions)\n",
        "    if compile:\n",
        "        model.compile(optimizer='adam',\n",
        "                      loss='sparse_categorical_crossentropy',\n",
        "                      metrics=['accuracy'])\n",
        "    return model"
      ],
      "metadata": {
        "id": "FsBWBMI1H9Vq"
      },
      "execution_count": null,
      "outputs": []
    },
    {
      "cell_type": "code",
      "source": [
        "num_classes = len(np.unique(y_multi))\n",
        "model = get_conv_model_D(num_classes)"
      ],
      "metadata": {
        "colab": {
          "base_uri": "https://localhost:8080/"
        },
        "id": "4V7mCC-7IsJD",
        "outputId": "9efd26a9-8ff7-41e1-cd94-72e6c547808f"
      },
      "execution_count": null,
      "outputs": [
        {
          "output_type": "stream",
          "name": "stdout",
          "text": [
            "using 5 classes\n"
          ]
        }
      ]
    },
    {
      "cell_type": "code",
      "source": [
        "def train(model, batch_size, epochs, model_name=\"\"):\n",
        "    tensorboard = tf.keras.callbacks.TensorBoard(log_dir=\"logs/\"+model_name+\"_\"+\"{}\".format(time()))\n",
        "    model.reset_states()\n",
        "    model.fit(xm_train, ym_train, epochs=epochs, callbacks=[tensorboard],\n",
        "              batch_size=batch_size,\n",
        "              validation_data=(xm_test, ym_test))\n",
        "    metrics = model.evaluate(xm_test, ym_test)\n",
        "    return {k:v for k,v in zip (model.metrics_names, metrics)}"
      ],
      "metadata": {
        "id": "zMFIUV5xJiJe"
      },
      "execution_count": null,
      "outputs": []
    },
    {
      "cell_type": "code",
      "source": [
        "model = get_conv_model_D(num_classes)\n",
        "model.summary()"
      ],
      "metadata": {
        "colab": {
          "base_uri": "https://localhost:8080/"
        },
        "id": "YOmZRhAkJnIg",
        "outputId": "29c99fa8-4acd-4c2d-dcc6-d226d4407815"
      },
      "execution_count": null,
      "outputs": [
        {
          "output_type": "stream",
          "name": "stdout",
          "text": [
            "using 5 classes\n",
            "Model: \"model\"\n",
            "_________________________________________________________________\n",
            " Layer (type)                Output Shape              Param #   \n",
            "=================================================================\n",
            " input_1 (InputLayer)        [(None, 6, 6, 1)]         0         \n",
            "                                                                 \n",
            " conv2d (Conv2D)             (None, 5, 5, 15)          75        \n",
            "                                                                 \n",
            " max_pooling2d (MaxPooling2D  (None, 2, 2, 15)         0         \n",
            " )                                                               \n",
            "                                                                 \n",
            " conv2d_1 (Conv2D)           (None, 1, 1, 60)          3660      \n",
            "                                                                 \n",
            " flatten (Flatten)           (None, 60)                0         \n",
            "                                                                 \n",
            " dense (Dense)               (None, 16)                976       \n",
            "                                                                 \n",
            " dropout (Dropout)           (None, 16)                0         \n",
            "                                                                 \n",
            " output_1 (Dense)            (None, 5)                 85        \n",
            "                                                                 \n",
            "=================================================================\n",
            "Total params: 4,796\n",
            "Trainable params: 4,796\n",
            "Non-trainable params: 0\n",
            "_________________________________________________________________\n"
          ]
        }
      ]
    },
    {
      "cell_type": "code",
      "source": [
        "train(model, batch_size=32, epochs=10, model_name=\"model_D\")"
      ],
      "metadata": {
        "colab": {
          "base_uri": "https://localhost:8080/"
        },
        "id": "kcyiiHSNJtgu",
        "outputId": "e91af813-8350-495c-a4fa-9689fd7edc71"
      },
      "execution_count": null,
      "outputs": [
        {
          "output_type": "stream",
          "name": "stdout",
          "text": [
            "Epoch 1/10\n",
            "27839/27839 [==============================] - 93s 3ms/step - loss: 0.0881 - accuracy: 0.9739 - val_loss: 0.0374 - val_accuracy: 0.9886\n",
            "Epoch 2/10\n",
            "27839/27839 [==============================] - 79s 3ms/step - loss: 0.0371 - accuracy: 0.9887 - val_loss: 0.0302 - val_accuracy: 0.9874\n",
            "Epoch 3/10\n",
            "27839/27839 [==============================] - 74s 3ms/step - loss: 0.0304 - accuracy: 0.9905 - val_loss: 0.0239 - val_accuracy: 0.9922\n",
            "Epoch 4/10\n",
            "27839/27839 [==============================] - 70s 3ms/step - loss: 0.0278 - accuracy: 0.9913 - val_loss: 0.0216 - val_accuracy: 0.9923\n",
            "Epoch 5/10\n",
            "27839/27839 [==============================] - 71s 3ms/step - loss: 0.0257 - accuracy: 0.9919 - val_loss: 0.0202 - val_accuracy: 0.9934\n",
            "Epoch 6/10\n",
            "27839/27839 [==============================] - 70s 3ms/step - loss: 0.0251 - accuracy: 0.9921 - val_loss: 0.0223 - val_accuracy: 0.9927\n",
            "Epoch 7/10\n",
            "27839/27839 [==============================] - 70s 3ms/step - loss: 0.0242 - accuracy: 0.9924 - val_loss: 0.0214 - val_accuracy: 0.9912\n",
            "Epoch 8/10\n",
            "27839/27839 [==============================] - 81s 3ms/step - loss: 0.0224 - accuracy: 0.9926 - val_loss: 0.0186 - val_accuracy: 0.9936\n",
            "Epoch 9/10\n",
            "27839/27839 [==============================] - 71s 3ms/step - loss: 0.0205 - accuracy: 0.9930 - val_loss: 0.0153 - val_accuracy: 0.9938\n",
            "Epoch 10/10\n",
            "27839/27839 [==============================] - 81s 3ms/step - loss: 0.0204 - accuracy: 0.9938 - val_loss: 0.0145 - val_accuracy: 0.9957\n",
            "9280/9280 [==============================] - 13s 1ms/step - loss: 0.0145 - accuracy: 0.9957\n"
          ]
        },
        {
          "output_type": "execute_result",
          "data": {
            "text/plain": [
              "{'accuracy': 0.9957129955291748, 'loss': 0.014509997330605984}"
            ]
          },
          "metadata": {},
          "execution_count": 324
        }
      ]
    },
    {
      "cell_type": "code",
      "source": [
        "ym_preds = model.predict(xm_test).argmax(axis=1)"
      ],
      "metadata": {
        "id": "wUQqcEjkNZIp"
      },
      "execution_count": null,
      "outputs": []
    },
    {
      "cell_type": "code",
      "source": [
        "matrix_conf(ym_test, ym_preds, dict_multi.values())"
      ],
      "metadata": {
        "colab": {
          "base_uri": "https://localhost:8080/",
          "height": 746
        },
        "id": "Zr0QLEbhNdZU",
        "outputId": "d88c48e0-e2e2-40fa-9c97-a2c317a1eea8"
      },
      "execution_count": null,
      "outputs": [
        {
          "output_type": "display_data",
          "data": {
            "text/plain": [
              "<Figure size 720x720 with 2 Axes>"
            ],
            "image/png": "[encoded data removed]"
          },
          "metadata": {
            "needs_background": "light"
          }
        },
        {
          "output_type": "execute_result",
          "data": {
            "text/plain": [
              "<matplotlib.axes._subplots.AxesSubplot at 0x7fd173359650>"
            ]
          },
          "metadata": {},
          "execution_count": 326
        }
      ]
    }
  ]
}