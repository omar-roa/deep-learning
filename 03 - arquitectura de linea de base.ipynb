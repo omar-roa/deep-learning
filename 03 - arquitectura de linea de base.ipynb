{
  "nbformat": 4,
  "nbformat_minor": 0,
  "metadata": {
    "colab": {
      "name": "03 - arquitectura de linea de base.ipynb",
      "provenance": [],
      "collapsed_sections": [],
      "toc_visible": true,
      "authorship_tag": "ABX9TyNCebJ3nxeFy4REQXpiP1a0",
      "include_colab_link": true
    },
    "kernelspec": {
      "name": "python3",
      "display_name": "Python 3"
    },
    "language_info": {
      "name": "python"
    }
  },
  "cells": [
    {
      "cell_type": "markdown",
      "metadata": {
        "id": "view-in-github",
        "colab_type": "text"
      },
      "source": [
        "<a href=\"https://colab.research.google.com/github/omar-roa/deep-learning/blob/main/03%20-%20arquitectura%20de%20linea%20de%20base.ipynb\" target=\"_parent\"><img src=\"https://colab.research.google.com/assets/colab-badge.svg\" alt=\"Open In Colab\"/></a>"
      ]
    },
    {
      "cell_type": "markdown",
      "source": [
        "# 0. Librerías"
      ],
      "metadata": {
        "id": "mjEh0tvLBGPw"
      }
    },
    {
      "cell_type": "code",
      "execution_count": 332,
      "metadata": {
        "id": "r3WOLyNcAe4G"
      },
      "outputs": [],
      "source": [
        "import numpy as np\n",
        "import random\n",
        "import pandas as pd\n",
        "from sklearn.preprocessing import MinMaxScaler\n",
        "from PIL import Image\n",
        "import matplotlib.pyplot as plt\n",
        "from sklearn.model_selection import train_test_split\n",
        "import tensorflow as tf\n",
        "from time import time\n",
        "from sklearn.metrics import confusion_matrix\n",
        "import seaborn as sns\n",
        "from sklearn.metrics import f1_score,accuracy_score\n",
        "from sklearn.metrics import confusion_matrix\n",
        "import seaborn as sns"
      ]
    },
    {
      "cell_type": "code",
      "source": [
        "def matrix_conf(y_test, y_pred, labels):\n",
        "    cm = confusion_matrix(y_test, y_pred)\n",
        "\n",
        "    # Normalizar\n",
        "    cmn = cm.astype('float') / cm.sum(axis=1)[:, np.newaxis]\n",
        "    \n",
        "    # Graficar\n",
        "    fig, ax = plt.subplots(figsize=(10,10))\n",
        "    sns.heatmap(cmn, cmap=\"Blues\", annot=True, fmt='.3f', xticklabels=labels, yticklabels=labels)\n",
        "    plt.ylabel('Real')\n",
        "    plt.xlabel('Predicción')\n",
        "    plt.show(block=False)\n",
        "\n",
        "    return ax"
      ],
      "metadata": {
        "id": "TxdEASKddSKs"
      },
      "execution_count": 333,
      "outputs": []
    },
    {
      "cell_type": "markdown",
      "source": [
        "# 1. Retomamos el dataset preprocesado\n",
        "\n",
        "Tendremos dos datasets para contrastar el desempeño de los modelos\n",
        "\n",
        "\n",
        "1.   Dataset depurado sin balancear (1.187.782 registros) ds_v4\n",
        "2.   Dataset depurado y balanceado (780.004 registros) ds_v5\n"
      ],
      "metadata": {
        "id": "n8Xbbk0pBOzp"
      }
    },
    {
      "cell_type": "code",
      "source": [
        "%%capture\n",
        "!wget --load-cookies /tmp/cookies.txt \"https://docs.google.com/uc?export=download&confirm=$(wget --quiet --save-cookies /tmp/cookies.txt --keep-session-cookies --no-check-certificate 'https://docs.google.com/uc?export=download&id=1IQGn8-uMQlmriI0daCF0wJq4xUnkcekv' -O- | sed -rn 's/.*confirm=([0-9A-Za-z_]+).*/\\1\\n/p')&id=1IQGn8-uMQlmriI0daCF0wJq4xUnkcekv\" -O SDN_Intrusion4.csv && rm -rf /tmp/cookies.txt\n",
        "!wget --load-cookies /tmp/cookies.txt \"https://docs.google.com/uc?export=download&confirm=$(wget --quiet --save-cookies /tmp/cookies.txt --keep-session-cookies --no-check-certificate 'https://docs.google.com/uc?export=download&id=1-0pXxJzz47VJAOLp6vDnRQc3OLETGcQL' -O- | sed -rn 's/.*confirm=([0-9A-Za-z_]+).*/\\1\\n/p')&id=1-0pXxJzz47VJAOLp6vDnRQc3OLETGcQL\" -O SDN_Intrusion5.csv && rm -rf /tmp/cookies.txt"
      ],
      "metadata": {
        "id": "2TEhaPIbBOdg"
      },
      "execution_count": 334,
      "outputs": []
    },
    {
      "cell_type": "code",
      "source": [
        "ds_v4 = pd.read_csv('/content/SDN_Intrusion4.csv')\n",
        "ds_v5 = pd.read_csv('/content/SDN_Intrusion5.csv')"
      ],
      "metadata": {
        "id": "nnHWuub7CFmY"
      },
      "execution_count": 335,
      "outputs": []
    },
    {
      "cell_type": "code",
      "source": [
        "ds_v4['Class'].value_counts()"
      ],
      "metadata": {
        "colab": {
          "base_uri": "https://localhost:8080/"
        },
        "id": "0snQ56aHbB9n",
        "outputId": "4f316f57-12aa-4cf6-a0c0-ee34b201a39c"
      },
      "execution_count": 336,
      "outputs": [
        {
          "output_type": "execute_result",
          "data": {
            "text/plain": [
              "1    797780\n",
              "0    383430\n",
              "2      4550\n",
              "3      1962\n",
              "4        60\n",
              "Name: Class, dtype: int64"
            ]
          },
          "metadata": {},
          "execution_count": 336
        }
      ]
    },
    {
      "cell_type": "markdown",
      "source": [
        "Tendremos dos escenario:\n",
        "\n",
        "\n",
        "*   Caso de clasificación binaria: BENIGNO vs ATAQUE\n",
        "*   Caso de clasificación multiclase: BENIGNO vs DDoS vs Brute Force vs XSS vs Sql Injection"
      ],
      "metadata": {
        "id": "H7Qn1zEEYniw"
      }
    },
    {
      "cell_type": "code",
      "source": [
        "# Separamos las entradas de la salida\n",
        "X = ds_v4.drop(columns=({'Class'}))\n",
        "\n",
        "# Salida para el caso multiclase\n",
        "y_multi = ds_v4['Class']\n",
        "dict_multi = {0: 'DDoS', 1: 'BENIGN', 2: 'Web Attack - Brute Force', 3: 'Web Attack - XSS', 4: 'Web Attack - Sql Injection'}\n",
        "\n",
        "# Salida para el caso binario\n",
        "y_bin = y_multi.replace([2, 3, 4], 0)\n",
        "dict_bin = {0: 'ATTACK', 1: 'BENIGN', }\n",
        "\n",
        "# Haremos un escalamiento Max-Min entre 0 y 1\n",
        "scaler = MinMaxScaler()\n",
        "X_sc = X\n",
        "X_sc[X.columns] = scaler.fit_transform(X)"
      ],
      "metadata": {
        "id": "Wl5qqUICVOll"
      },
      "execution_count": 337,
      "outputs": []
    },
    {
      "cell_type": "markdown",
      "source": [
        "Verificamos que el escalamiento se haya sido realizado sin problema\n"
      ],
      "metadata": {
        "id": "I8ObPjWe5aFz"
      }
    },
    {
      "cell_type": "code",
      "source": [
        "X_sc.describe()"
      ],
      "metadata": {
        "colab": {
          "base_uri": "https://localhost:8080/",
          "height": 428
        },
        "id": "7sMjXqx7T_Mk",
        "outputId": "04353ea6-daa9-4344-fb5d-85ba5da5f869"
      },
      "execution_count": 338,
      "outputs": [
        {
          "output_type": "execute_result",
          "data": {
            "text/plain": [
              "        Destination Port   Total Fwd Packets   Total Backward Packets  \\\n",
              "count       1.187782e+06        1.187782e+06             1.187782e+06   \n",
              "mean        1.292702e-01        4.283834e-05             3.984613e-05   \n",
              "std         2.921122e-01        3.710986e-03             3.656775e-03   \n",
              "min         0.000000e+00        0.000000e+00             0.000000e+00   \n",
              "25%         8.087652e-04        4.981221e-06             3.694317e-06   \n",
              "50%         1.220778e-03        9.962442e-06             7.388635e-06   \n",
              "75%         6.760056e-03        1.992488e-05             1.847159e-05   \n",
              "max         1.000000e+00        1.000000e+00             1.000000e+00   \n",
              "\n",
              "       Total Length of Fwd Packets   Fwd Packet Length Max  \\\n",
              "count                 1.187782e+06            1.187782e+06   \n",
              "mean                  6.554129e-04            1.633813e-02   \n",
              "std                   4.810782e-03            6.237066e-02   \n",
              "min                   0.000000e+00            0.000000e+00   \n",
              "25%                   2.171736e-05            2.568493e-04   \n",
              "50%                   4.009359e-05            8.561644e-04   \n",
              "75%                   7.517547e-05            2.054795e-03   \n",
              "max                   1.000000e+00            1.000000e+00   \n",
              "\n",
              "        Fwd Packet Length Mean   Fwd Packet Length Std  Bwd Packet Length Max  \\\n",
              "count             1.187782e+06            1.187782e+06           1.187782e+06   \n",
              "mean              2.760880e-02            2.148232e-02           1.317206e-01   \n",
              "std               9.371265e-02            9.218685e-02           2.338310e-01   \n",
              "min               0.000000e+00            0.000000e+00           0.000000e+00   \n",
              "25%               1.434358e-03            0.000000e+00           4.566210e-04   \n",
              "50%               2.103725e-03            0.000000e+00           6.849315e-03   \n",
              "75%               1.075768e-02            1.533505e-03           1.224505e-01   \n",
              "max               1.000000e+00            1.000000e+00           1.000000e+00   \n",
              "\n",
              "        Bwd Packet Length Mean   Bwd Packet Length Std  ...  \\\n",
              "count             1.187782e+06            1.187782e+06  ...   \n",
              "mean              9.931579e-02            9.193903e-02  ...   \n",
              "std               1.615738e-01            1.745046e-01  ...   \n",
              "min               0.000000e+00            0.000000e+00  ...   \n",
              "25%               8.275149e-04            0.000000e+00  ...   \n",
              "50%               1.430911e-02            0.000000e+00  ...   \n",
              "75%               9.822429e-02            8.335953e-02  ...   \n",
              "max               1.000000e+00            1.000000e+00  ...   \n",
              "\n",
              "        Average Packet Size   Avg Fwd Segment Size   Avg Bwd Segment Size  \\\n",
              "count          1.187782e+06           1.187782e+06           1.187782e+06   \n",
              "mean           1.352971e-01           2.760880e-02           9.931579e-02   \n",
              "std            1.925221e-01           9.371265e-02           1.615738e-01   \n",
              "min            0.000000e+00           0.000000e+00           0.000000e+00   \n",
              "25%            3.232759e-03           1.434358e-03           8.275149e-04   \n",
              "50%            3.071121e-02           2.103725e-03           1.430911e-02   \n",
              "75%            2.621004e-01           1.075768e-02           9.822429e-02   \n",
              "max            1.000000e+00           1.000000e+00           1.000000e+00   \n",
              "\n",
              "        Fwd Header Length.1  Subflow Fwd Packets   Subflow Fwd Bytes  \\\n",
              "count          1.187782e+06         1.187782e+06        1.187782e+06   \n",
              "mean           5.263823e-05         4.283834e-05        6.554129e-04   \n",
              "std            3.723173e-03         3.710986e-03        4.810782e-03   \n",
              "min            0.000000e+00         0.000000e+00        0.000000e+00   \n",
              "25%            9.585265e-06         4.981221e-06        2.171736e-05   \n",
              "50%            1.725348e-05         9.962442e-06        4.009359e-05   \n",
              "75%            2.492169e-05         1.992488e-05        7.517547e-05   \n",
              "max            1.000000e+00         1.000000e+00        1.000000e+00   \n",
              "\n",
              "        Subflow Bwd Packets  Init_Win_bytes_forward   Init_Win_bytes_backward  \\\n",
              "count          1.187782e+06            1.187782e+06              1.187782e+06   \n",
              "mean           3.984613e-05            7.788111e-02              2.096018e-02   \n",
              "std            3.656775e-03            1.635623e-01              1.085894e-01   \n",
              "min            0.000000e+00            0.000000e+00              0.000000e+00   \n",
              "25%            3.694317e-06            0.000000e+00              0.000000e+00   \n",
              "50%            7.388635e-06            3.921509e-03              1.525879e-05   \n",
              "75%            1.847159e-05            1.250153e-01              3.509521e-03   \n",
              "max            1.000000e+00            1.000000e+00              1.000000e+00   \n",
              "\n",
              "        act_data_pkt_fwd  \n",
              "count       1.187782e+06  \n",
              "mean        3.796426e-05  \n",
              "std         3.712643e-03  \n",
              "min         0.000000e+00  \n",
              "25%         5.195048e-06  \n",
              "50%         1.039010e-05  \n",
              "75%         2.078019e-05  \n",
              "max         1.000000e+00  \n",
              "\n",
              "[8 rows x 36 columns]"
            ],
            "text/html": [
              "\n",
              "  <div id=\"df-0c7ac528-3c52-435f-ba50-5c6d97f7b5e1\">\n",
              "    <div class=\"colab-df-container\">\n",
              "      <div>\n",
              "<style scoped>\n",
              "    .dataframe tbody tr th:only-of-type {\n",
              "        vertical-align: middle;\n",
              "    }\n",
              "\n",
              "    .dataframe tbody tr th {\n",
              "        vertical-align: top;\n",
              "    }\n",
              "\n",
              "    .dataframe thead th {\n",
              "        text-align: right;\n",
              "    }\n",
              "</style>\n",
              "<table border=\"1\" class=\"dataframe\">\n",
              "  <thead>\n",
              "    <tr style=\"text-align: right;\">\n",
              "      <th></th>\n",
              "      <th>Destination Port</th>\n",
              "      <th>Total Fwd Packets</th>\n",
              "      <th>Total Backward Packets</th>\n",
              "      <th>Total Length of Fwd Packets</th>\n",
              "      <th>Fwd Packet Length Max</th>\n",
              "      <th>Fwd Packet Length Mean</th>\n",
              "      <th>Fwd Packet Length Std</th>\n",
              "      <th>Bwd Packet Length Max</th>\n",
              "      <th>Bwd Packet Length Mean</th>\n",
              "      <th>Bwd Packet Length Std</th>\n",
              "      <th>...</th>\n",
              "      <th>Average Packet Size</th>\n",
              "      <th>Avg Fwd Segment Size</th>\n",
              "      <th>Avg Bwd Segment Size</th>\n",
              "      <th>Fwd Header Length.1</th>\n",
              "      <th>Subflow Fwd Packets</th>\n",
              "      <th>Subflow Fwd Bytes</th>\n",
              "      <th>Subflow Bwd Packets</th>\n",
              "      <th>Init_Win_bytes_forward</th>\n",
              "      <th>Init_Win_bytes_backward</th>\n",
              "      <th>act_data_pkt_fwd</th>\n",
              "    </tr>\n",
              "  </thead>\n",
              "  <tbody>\n",
              "    <tr>\n",
              "      <th>count</th>\n",
              "      <td>1.187782e+06</td>\n",
              "      <td>1.187782e+06</td>\n",
              "      <td>1.187782e+06</td>\n",
              "      <td>1.187782e+06</td>\n",
              "      <td>1.187782e+06</td>\n",
              "      <td>1.187782e+06</td>\n",
              "      <td>1.187782e+06</td>\n",
              "      <td>1.187782e+06</td>\n",
              "      <td>1.187782e+06</td>\n",
              "      <td>1.187782e+06</td>\n",
              "      <td>...</td>\n",
              "      <td>1.187782e+06</td>\n",
              "      <td>1.187782e+06</td>\n",
              "      <td>1.187782e+06</td>\n",
              "      <td>1.187782e+06</td>\n",
              "      <td>1.187782e+06</td>\n",
              "      <td>1.187782e+06</td>\n",
              "      <td>1.187782e+06</td>\n",
              "      <td>1.187782e+06</td>\n",
              "      <td>1.187782e+06</td>\n",
              "      <td>1.187782e+06</td>\n",
              "    </tr>\n",
              "    <tr>\n",
              "      <th>mean</th>\n",
              "      <td>1.292702e-01</td>\n",
              "      <td>4.283834e-05</td>\n",
              "      <td>3.984613e-05</td>\n",
              "      <td>6.554129e-04</td>\n",
              "      <td>1.633813e-02</td>\n",
              "      <td>2.760880e-02</td>\n",
              "      <td>2.148232e-02</td>\n",
              "      <td>1.317206e-01</td>\n",
              "      <td>9.931579e-02</td>\n",
              "      <td>9.193903e-02</td>\n",
              "      <td>...</td>\n",
              "      <td>1.352971e-01</td>\n",
              "      <td>2.760880e-02</td>\n",
              "      <td>9.931579e-02</td>\n",
              "      <td>5.263823e-05</td>\n",
              "      <td>4.283834e-05</td>\n",
              "      <td>6.554129e-04</td>\n",
              "      <td>3.984613e-05</td>\n",
              "      <td>7.788111e-02</td>\n",
              "      <td>2.096018e-02</td>\n",
              "      <td>3.796426e-05</td>\n",
              "    </tr>\n",
              "    <tr>\n",
              "      <th>std</th>\n",
              "      <td>2.921122e-01</td>\n",
              "      <td>3.710986e-03</td>\n",
              "      <td>3.656775e-03</td>\n",
              "      <td>4.810782e-03</td>\n",
              "      <td>6.237066e-02</td>\n",
              "      <td>9.371265e-02</td>\n",
              "      <td>9.218685e-02</td>\n",
              "      <td>2.338310e-01</td>\n",
              "      <td>1.615738e-01</td>\n",
              "      <td>1.745046e-01</td>\n",
              "      <td>...</td>\n",
              "      <td>1.925221e-01</td>\n",
              "      <td>9.371265e-02</td>\n",
              "      <td>1.615738e-01</td>\n",
              "      <td>3.723173e-03</td>\n",
              "      <td>3.710986e-03</td>\n",
              "      <td>4.810782e-03</td>\n",
              "      <td>3.656775e-03</td>\n",
              "      <td>1.635623e-01</td>\n",
              "      <td>1.085894e-01</td>\n",
              "      <td>3.712643e-03</td>\n",
              "    </tr>\n",
              "    <tr>\n",
              "      <th>min</th>\n",
              "      <td>0.000000e+00</td>\n",
              "      <td>0.000000e+00</td>\n",
              "      <td>0.000000e+00</td>\n",
              "      <td>0.000000e+00</td>\n",
              "      <td>0.000000e+00</td>\n",
              "      <td>0.000000e+00</td>\n",
              "      <td>0.000000e+00</td>\n",
              "      <td>0.000000e+00</td>\n",
              "      <td>0.000000e+00</td>\n",
              "      <td>0.000000e+00</td>\n",
              "      <td>...</td>\n",
              "      <td>0.000000e+00</td>\n",
              "      <td>0.000000e+00</td>\n",
              "      <td>0.000000e+00</td>\n",
              "      <td>0.000000e+00</td>\n",
              "      <td>0.000000e+00</td>\n",
              "      <td>0.000000e+00</td>\n",
              "      <td>0.000000e+00</td>\n",
              "      <td>0.000000e+00</td>\n",
              "      <td>0.000000e+00</td>\n",
              "      <td>0.000000e+00</td>\n",
              "    </tr>\n",
              "    <tr>\n",
              "      <th>25%</th>\n",
              "      <td>8.087652e-04</td>\n",
              "      <td>4.981221e-06</td>\n",
              "      <td>3.694317e-06</td>\n",
              "      <td>2.171736e-05</td>\n",
              "      <td>2.568493e-04</td>\n",
              "      <td>1.434358e-03</td>\n",
              "      <td>0.000000e+00</td>\n",
              "      <td>4.566210e-04</td>\n",
              "      <td>8.275149e-04</td>\n",
              "      <td>0.000000e+00</td>\n",
              "      <td>...</td>\n",
              "      <td>3.232759e-03</td>\n",
              "      <td>1.434358e-03</td>\n",
              "      <td>8.275149e-04</td>\n",
              "      <td>9.585265e-06</td>\n",
              "      <td>4.981221e-06</td>\n",
              "      <td>2.171736e-05</td>\n",
              "      <td>3.694317e-06</td>\n",
              "      <td>0.000000e+00</td>\n",
              "      <td>0.000000e+00</td>\n",
              "      <td>5.195048e-06</td>\n",
              "    </tr>\n",
              "    <tr>\n",
              "      <th>50%</th>\n",
              "      <td>1.220778e-03</td>\n",
              "      <td>9.962442e-06</td>\n",
              "      <td>7.388635e-06</td>\n",
              "      <td>4.009359e-05</td>\n",
              "      <td>8.561644e-04</td>\n",
              "      <td>2.103725e-03</td>\n",
              "      <td>0.000000e+00</td>\n",
              "      <td>6.849315e-03</td>\n",
              "      <td>1.430911e-02</td>\n",
              "      <td>0.000000e+00</td>\n",
              "      <td>...</td>\n",
              "      <td>3.071121e-02</td>\n",
              "      <td>2.103725e-03</td>\n",
              "      <td>1.430911e-02</td>\n",
              "      <td>1.725348e-05</td>\n",
              "      <td>9.962442e-06</td>\n",
              "      <td>4.009359e-05</td>\n",
              "      <td>7.388635e-06</td>\n",
              "      <td>3.921509e-03</td>\n",
              "      <td>1.525879e-05</td>\n",
              "      <td>1.039010e-05</td>\n",
              "    </tr>\n",
              "    <tr>\n",
              "      <th>75%</th>\n",
              "      <td>6.760056e-03</td>\n",
              "      <td>1.992488e-05</td>\n",
              "      <td>1.847159e-05</td>\n",
              "      <td>7.517547e-05</td>\n",
              "      <td>2.054795e-03</td>\n",
              "      <td>1.075768e-02</td>\n",
              "      <td>1.533505e-03</td>\n",
              "      <td>1.224505e-01</td>\n",
              "      <td>9.822429e-02</td>\n",
              "      <td>8.335953e-02</td>\n",
              "      <td>...</td>\n",
              "      <td>2.621004e-01</td>\n",
              "      <td>1.075768e-02</td>\n",
              "      <td>9.822429e-02</td>\n",
              "      <td>2.492169e-05</td>\n",
              "      <td>1.992488e-05</td>\n",
              "      <td>7.517547e-05</td>\n",
              "      <td>1.847159e-05</td>\n",
              "      <td>1.250153e-01</td>\n",
              "      <td>3.509521e-03</td>\n",
              "      <td>2.078019e-05</td>\n",
              "    </tr>\n",
              "    <tr>\n",
              "      <th>max</th>\n",
              "      <td>1.000000e+00</td>\n",
              "      <td>1.000000e+00</td>\n",
              "      <td>1.000000e+00</td>\n",
              "      <td>1.000000e+00</td>\n",
              "      <td>1.000000e+00</td>\n",
              "      <td>1.000000e+00</td>\n",
              "      <td>1.000000e+00</td>\n",
              "      <td>1.000000e+00</td>\n",
              "      <td>1.000000e+00</td>\n",
              "      <td>1.000000e+00</td>\n",
              "      <td>...</td>\n",
              "      <td>1.000000e+00</td>\n",
              "      <td>1.000000e+00</td>\n",
              "      <td>1.000000e+00</td>\n",
              "      <td>1.000000e+00</td>\n",
              "      <td>1.000000e+00</td>\n",
              "      <td>1.000000e+00</td>\n",
              "      <td>1.000000e+00</td>\n",
              "      <td>1.000000e+00</td>\n",
              "      <td>1.000000e+00</td>\n",
              "      <td>1.000000e+00</td>\n",
              "    </tr>\n",
              "  </tbody>\n",
              "</table>\n",
              "<p>8 rows × 36 columns</p>\n",
              "</div>\n",
              "      <button class=\"colab-df-convert\" onclick=\"convertToInteractive('df-0c7ac528-3c52-435f-ba50-5c6d97f7b5e1')\"\n",
              "              title=\"Convert this dataframe to an interactive table.\"\n",
              "              style=\"display:none;\">\n",
              "        \n",
              "  <svg xmlns=\"http://www.w3.org/2000/svg\" height=\"24px\"viewBox=\"0 0 24 24\"\n",
              "       width=\"24px\">\n",
              "    <path d=\"M0 0h24v24H0V0z\" fill=\"none\"/>\n",
              "    <path d=\"M18.56 5.44l.94 2.06.94-2.06 2.06-.94-2.06-.94-.94-2.06-.94 2.06-2.06.94zm-11 1L8.5 8.5l.94-2.06 2.06-.94-2.06-.94L8.5 2.5l-.94 2.06-2.06.94zm10 10l.94 2.06.94-2.06 2.06-.94-2.06-.94-.94-2.06-.94 2.06-2.06.94z\"/><path d=\"M17.41 7.96l-1.37-1.37c-.4-.4-.92-.59-1.43-.59-.52 0-1.04.2-1.43.59L10.3 9.45l-7.72 7.72c-.78.78-.78 2.05 0 2.83L4 21.41c.39.39.9.59 1.41.59.51 0 1.02-.2 1.41-.59l7.78-7.78 2.81-2.81c.8-.78.8-2.07 0-2.86zM5.41 20L4 18.59l7.72-7.72 1.47 1.35L5.41 20z\"/>\n",
              "  </svg>\n",
              "      </button>\n",
              "      \n",
              "  <style>\n",
              "    .colab-df-container {\n",
              "      display:flex;\n",
              "      flex-wrap:wrap;\n",
              "      gap: 12px;\n",
              "    }\n",
              "\n",
              "    .colab-df-convert {\n",
              "      background-color: #E8F0FE;\n",
              "      border: none;\n",
              "      border-radius: 50%;\n",
              "      cursor: pointer;\n",
              "      display: none;\n",
              "      fill: #1967D2;\n",
              "      height: 32px;\n",
              "      padding: 0 0 0 0;\n",
              "      width: 32px;\n",
              "    }\n",
              "\n",
              "    .colab-df-convert:hover {\n",
              "      background-color: #E2EBFA;\n",
              "      box-shadow: 0px 1px 2px rgba(60, 64, 67, 0.3), 0px 1px 3px 1px rgba(60, 64, 67, 0.15);\n",
              "      fill: #174EA6;\n",
              "    }\n",
              "\n",
              "    [theme=dark] .colab-df-convert {\n",
              "      background-color: #3B4455;\n",
              "      fill: #D2E3FC;\n",
              "    }\n",
              "\n",
              "    [theme=dark] .colab-df-convert:hover {\n",
              "      background-color: #434B5C;\n",
              "      box-shadow: 0px 1px 3px 1px rgba(0, 0, 0, 0.15);\n",
              "      filter: drop-shadow(0px 1px 2px rgba(0, 0, 0, 0.3));\n",
              "      fill: #FFFFFF;\n",
              "    }\n",
              "  </style>\n",
              "\n",
              "      <script>\n",
              "        const buttonEl =\n",
              "          document.querySelector('#df-0c7ac528-3c52-435f-ba50-5c6d97f7b5e1 button.colab-df-convert');\n",
              "        buttonEl.style.display =\n",
              "          google.colab.kernel.accessAllowed ? 'block' : 'none';\n",
              "\n",
              "        async function convertToInteractive(key) {\n",
              "          const element = document.querySelector('#df-0c7ac528-3c52-435f-ba50-5c6d97f7b5e1');\n",
              "          const dataTable =\n",
              "            await google.colab.kernel.invokeFunction('convertToInteractive',\n",
              "                                                     [key], {});\n",
              "          if (!dataTable) return;\n",
              "\n",
              "          const docLinkHtml = 'Like what you see? Visit the ' +\n",
              "            '<a target=\"_blank\" href=https://colab.research.google.com/notebooks/data_table.ipynb>data table notebook</a>'\n",
              "            + ' to learn more about interactive tables.';\n",
              "          element.innerHTML = '';\n",
              "          dataTable['output_type'] = 'display_data';\n",
              "          await google.colab.output.renderOutput(dataTable, element);\n",
              "          const docLink = document.createElement('div');\n",
              "          docLink.innerHTML = docLinkHtml;\n",
              "          element.appendChild(docLink);\n",
              "        }\n",
              "      </script>\n",
              "    </div>\n",
              "  </div>\n",
              "  "
            ]
          },
          "metadata": {},
          "execution_count": 338
        }
      ]
    },
    {
      "cell_type": "markdown",
      "source": [
        "Con el fin de generar imágenes readecuamos el array"
      ],
      "metadata": {
        "id": "-1OTl7ZJ5o0j"
      }
    },
    {
      "cell_type": "code",
      "source": [
        "X_np = X_sc.to_numpy()\n",
        "X_img = X_np.reshape(X_sc.shape[0],6,6,1)\n",
        "print(X_img.shape)"
      ],
      "metadata": {
        "colab": {
          "base_uri": "https://localhost:8080/"
        },
        "id": "h1_nj8tEvs4q",
        "outputId": "6d9be795-3d35-496f-c8dd-5616a64df29b"
      },
      "execution_count": 339,
      "outputs": [
        {
          "output_type": "stream",
          "name": "stdout",
          "text": [
            "(1187782, 6, 6, 1)\n"
          ]
        }
      ]
    },
    {
      "cell_type": "markdown",
      "source": [
        "Validemos como se vería la transformación realizada a imagen para cada registro. Tomemos uno aleatoriamente\n",
        "\n",
        "\n"
      ],
      "metadata": {
        "id": "l0H8R4noxhED"
      }
    },
    {
      "cell_type": "code",
      "source": [
        "idx = random.randint(0,X_np.shape[0])\n",
        "p = 255 * X_np[idx,:]\n",
        "p = p.astype('int32')\n",
        "p = p.reshape(6,6)\n",
        "img = Image.fromarray(p)\n",
        "img = img.convert('L')\n",
        "img = img.resize((100,100),Image.NEAREST)\n",
        "\n",
        "print('Clase')\n",
        "print(dict_bin[y_bin[idx]])\n",
        "print('')\n",
        "\n",
        "print(p)\n",
        "print('')\n",
        "\n",
        "img"
      ],
      "metadata": {
        "colab": {
          "base_uri": "https://localhost:8080/",
          "height": 291
        },
        "id": "ZkVmia9qwY74",
        "outputId": "24633085-d956-4b52-fab1-9885b8e8b1fa"
      },
      "execution_count": 340,
      "outputs": [
        {
          "output_type": "stream",
          "name": "stdout",
          "text": [
            "Clase\n",
            "ATTACK\n",
            "\n",
            "[[  0   0   0   0   0   0]\n",
            " [  0  85  85  54   0   0]\n",
            " [  0   0   0   0   0   0]\n",
            " [  0   0   0  47 152  91]\n",
            " [ 32   0 133   0  85   0]\n",
            " [  0   0   0  31   0   0]]\n",
            "\n"
          ]
        },
        {
          "output_type": "execute_result",
          "data": {
            "text/plain": [
              "<PIL.Image.Image image mode=L size=100x100 at 0x7FD17407BF10>"
            ],
            "image/png": "[encoded data removed]"
          },
          "metadata": {},
          "execution_count": 340
        }
      ]
    },
    {
      "cell_type": "markdown",
      "source": [
        "Datos para modelos de 2 clases"
      ],
      "metadata": {
        "id": "7Y76xCMQufvQ"
      }
    },
    {
      "cell_type": "code",
      "source": [
        "x_train, x_test, y_train, y_test = train_test_split(X_img, y_bin, test_size=.25)\n",
        "print (x_train.shape, y_train.shape, x_test.shape, y_test.shape)\n",
        "print (\"\\nDistribución de clases para entrenamiento\")\n",
        "print (pd.Series(y_train).value_counts())\n",
        "print (\"\\nDistribución de clases para prueba\")\n",
        "print (pd.Series(y_test).value_counts())"
      ],
      "metadata": {
        "colab": {
          "base_uri": "https://localhost:8080/"
        },
        "id": "6UNQhV6qDp_r",
        "outputId": "8bc90447-c133-40d4-dd5c-33f6a6de8a62"
      },
      "execution_count": 341,
      "outputs": [
        {
          "output_type": "stream",
          "name": "stdout",
          "text": [
            "(890836, 6, 6, 1) (890836,) (296946, 6, 6, 1) (296946,)\n",
            "\n",
            "Distribución de clases para entrenamiento\n",
            "1    598221\n",
            "0    292615\n",
            "Name: Class, dtype: int64\n",
            "\n",
            "Distribución de clases para prueba\n",
            "1    199559\n",
            "0     97387\n",
            "Name: Class, dtype: int64\n"
          ]
        }
      ]
    },
    {
      "cell_type": "markdown",
      "source": [
        "Datos para modelos de 5 clases"
      ],
      "metadata": {
        "id": "FxIBsrvdujWD"
      }
    },
    {
      "cell_type": "code",
      "source": [
        "xm_train, xm_test, ym_train, ym_test = train_test_split(X_img, y_multi, test_size=.25)\n",
        "print (xm_train.shape, ym_train.shape, xm_test.shape, ym_test.shape)\n",
        "print (\"\\nDistribución de clases para entrenamiento\")\n",
        "print (pd.Series(ym_train).value_counts())\n",
        "print (\"\\nDistribución de clases para prueba\")\n",
        "print (pd.Series(ym_test).value_counts())"
      ],
      "metadata": {
        "colab": {
          "base_uri": "https://localhost:8080/"
        },
        "id": "tiSrBDmvunHX",
        "outputId": "48607f79-e67d-4718-a7ed-91f8614f240a"
      },
      "execution_count": 342,
      "outputs": [
        {
          "output_type": "stream",
          "name": "stdout",
          "text": [
            "(890836, 6, 6, 1) (890836,) (296946, 6, 6, 1) (296946,)\n",
            "\n",
            "Distribución de clases para entrenamiento\n",
            "1    598538\n",
            "0    287348\n",
            "2      3427\n",
            "3      1474\n",
            "4        49\n",
            "Name: Class, dtype: int64\n",
            "\n",
            "Distribución de clases para prueba\n",
            "1    199242\n",
            "0     96082\n",
            "2      1123\n",
            "3       488\n",
            "4        11\n",
            "Name: Class, dtype: int64\n"
          ]
        }
      ]
    },
    {
      "cell_type": "markdown",
      "source": [
        "# Modelos"
      ],
      "metadata": {
        "id": "s9gRHIY8lMW_"
      }
    },
    {
      "cell_type": "markdown",
      "source": [
        "## Modelo A. DS No balanceado + 2 clases + 1 Conv sin dropout"
      ],
      "metadata": {
        "id": "KRI0Q3OSlt-j"
      }
    },
    {
      "cell_type": "code",
      "source": [
        "def get_conv_model_A(num_classes, img_size=6, compile=True):\n",
        "    tf.keras.backend.clear_session()\n",
        "    print (\"using\",num_classes,\"classes\")\n",
        "    inputs = tf.keras.Input(shape=(img_size,img_size,1), name=\"input_1\")\n",
        "    layers = tf.keras.layers.Conv2D(15,(3,3), activation=\"relu\", padding=\"SAME\")(inputs)\n",
        "    layers = tf.keras.layers.Flatten()(layers)\n",
        "    predictions = tf.keras.layers.Dense(num_classes, activation=tf.nn.softmax, name=\"output_1\")(layers)\n",
        "    model = tf.keras.Model(inputs = inputs, outputs=predictions)\n",
        "    if compile:\n",
        "        model.compile(optimizer='adam',\n",
        "                      loss='sparse_categorical_crossentropy',\n",
        "                      metrics=['accuracy'])\n",
        "    return model"
      ],
      "metadata": {
        "id": "SIKjdw3Cl2li"
      },
      "execution_count": 343,
      "outputs": []
    },
    {
      "cell_type": "code",
      "source": [
        "num_classes = len(np.unique(y_bin))\n",
        "model = get_conv_model_A(num_classes)"
      ],
      "metadata": {
        "colab": {
          "base_uri": "https://localhost:8080/"
        },
        "id": "EUGkb7lbndWB",
        "outputId": "6b7c0a01-6f89-4390-cd74-d908df1c8613"
      },
      "execution_count": 344,
      "outputs": [
        {
          "output_type": "stream",
          "name": "stdout",
          "text": [
            "using 2 classes\n"
          ]
        }
      ]
    },
    {
      "cell_type": "code",
      "source": [
        "def train(model, batch_size, epochs, model_name=\"\"):\n",
        "    tensorboard = tf.keras.callbacks.TensorBoard(log_dir=\"logs/\"+model_name+\"_\"+\"{}\".format(time()))\n",
        "    model.reset_states()\n",
        "    model.fit(x_train, y_train, epochs=epochs, callbacks=[tensorboard],\n",
        "              batch_size=batch_size,\n",
        "              validation_data=(x_test, y_test))\n",
        "    metrics = model.evaluate(x_test, y_test)\n",
        "    return {k:v for k,v in zip (model.metrics_names, metrics)}"
      ],
      "metadata": {
        "id": "Z94v1cWyndTn"
      },
      "execution_count": 345,
      "outputs": []
    },
    {
      "cell_type": "code",
      "source": [
        "model = get_conv_model_A(num_classes)\n",
        "model.summary()"
      ],
      "metadata": {
        "colab": {
          "base_uri": "https://localhost:8080/"
        },
        "id": "It9Y_obIny0B",
        "outputId": "2ed9fb4e-1c3e-421d-87c4-1273f53b1a41"
      },
      "execution_count": 346,
      "outputs": [
        {
          "output_type": "stream",
          "name": "stdout",
          "text": [
            "using 2 classes\n",
            "Model: \"model\"\n",
            "_________________________________________________________________\n",
            " Layer (type)                Output Shape              Param #   \n",
            "=================================================================\n",
            " input_1 (InputLayer)        [(None, 6, 6, 1)]         0         \n",
            "                                                                 \n",
            " conv2d (Conv2D)             (None, 6, 6, 15)          150       \n",
            "                                                                 \n",
            " flatten (Flatten)           (None, 540)               0         \n",
            "                                                                 \n",
            " output_1 (Dense)            (None, 2)                 1082      \n",
            "                                                                 \n",
            "=================================================================\n",
            "Total params: 1,232\n",
            "Trainable params: 1,232\n",
            "Non-trainable params: 0\n",
            "_________________________________________________________________\n"
          ]
        }
      ]
    },
    {
      "cell_type": "code",
      "source": [
        "train(model, batch_size=32, epochs=10, model_name=\"model_A\")"
      ],
      "metadata": {
        "colab": {
          "base_uri": "https://localhost:8080/"
        },
        "id": "UhC7qQNDn8ES",
        "outputId": "86f00efb-cad3-43d2-b1e7-b0eb462c0b14"
      },
      "execution_count": 347,
      "outputs": [
        {
          "output_type": "stream",
          "name": "stdout",
          "text": [
            "Epoch 1/10\n",
            "27839/27839 [==============================] - 84s 3ms/step - loss: 0.0490 - accuracy: 0.9824 - val_loss: 0.0271 - val_accuracy: 0.9880\n",
            "Epoch 2/10\n",
            "27839/27839 [==============================] - 67s 2ms/step - loss: 0.0239 - accuracy: 0.9908 - val_loss: 0.0218 - val_accuracy: 0.9915\n",
            "Epoch 3/10\n",
            "27839/27839 [==============================] - 66s 2ms/step - loss: 0.0207 - accuracy: 0.9919 - val_loss: 0.0203 - val_accuracy: 0.9920\n",
            "Epoch 4/10\n",
            "27839/27839 [==============================] - 77s 3ms/step - loss: 0.0188 - accuracy: 0.9929 - val_loss: 0.0185 - val_accuracy: 0.9932\n",
            "Epoch 5/10\n",
            "27839/27839 [==============================] - 66s 2ms/step - loss: 0.0173 - accuracy: 0.9937 - val_loss: 0.0173 - val_accuracy: 0.9939\n",
            "Epoch 6/10\n",
            "27839/27839 [==============================] - 67s 2ms/step - loss: 0.0161 - accuracy: 0.9943 - val_loss: 0.0155 - val_accuracy: 0.9944\n",
            "Epoch 7/10\n",
            "27839/27839 [==============================] - 67s 2ms/step - loss: 0.0150 - accuracy: 0.9948 - val_loss: 0.0149 - val_accuracy: 0.9951\n",
            "Epoch 8/10\n",
            "27839/27839 [==============================] - 66s 2ms/step - loss: 0.0141 - accuracy: 0.9954 - val_loss: 0.0146 - val_accuracy: 0.9946\n",
            "Epoch 9/10\n",
            "27839/27839 [==============================] - 66s 2ms/step - loss: 0.0133 - accuracy: 0.9957 - val_loss: 0.0133 - val_accuracy: 0.9955\n",
            "Epoch 10/10\n",
            "27839/27839 [==============================] - 78s 3ms/step - loss: 0.0128 - accuracy: 0.9960 - val_loss: 0.0142 - val_accuracy: 0.9966\n",
            "9280/9280 [==============================] - 13s 1ms/step - loss: 0.0142 - accuracy: 0.9966\n"
          ]
        },
        {
          "output_type": "execute_result",
          "data": {
            "text/plain": [
              "{'accuracy': 0.9966256618499756, 'loss': 0.014199890196323395}"
            ]
          },
          "metadata": {},
          "execution_count": 347
        }
      ]
    },
    {
      "cell_type": "code",
      "source": [
        "y_preds = model.predict(x_test).argmax(axis=1)"
      ],
      "metadata": {
        "id": "bZbcz9JfpY-_"
      },
      "execution_count": 348,
      "outputs": []
    },
    {
      "cell_type": "code",
      "source": [
        "print(\"Accuracy: \",accuracy_score(y_test,y_preds), \" F1-Score: \", f1_score(y_test,y_preds, average = \"macro\"))\n",
        "\n",
        "matrix_conf(y_test, y_preds, dict_bin.values())"
      ],
      "metadata": {
        "colab": {
          "base_uri": "https://localhost:8080/",
          "height": 641
        },
        "id": "xnUmehjcpbjS",
        "outputId": "a31aa713-dfac-4118-cec7-93742e51fcdf"
      },
      "execution_count": 351,
      "outputs": [
        {
          "output_type": "stream",
          "name": "stdout",
          "text": [
            "Accuracy:  0.9966256491079186  F1-Score:  0.996175591835823\n"
          ]
        },
        {
          "output_type": "display_data",
          "data": {
            "text/plain": [
              "<Figure size 720x720 with 2 Axes>"
            ],
            "image/png": "[encoded data removed]"
          },
          "metadata": {
            "needs_background": "light"
          }
        },
        {
          "output_type": "execute_result",
          "data": {
            "text/plain": [
              "<matplotlib.axes._subplots.AxesSubplot at 0x7fd173e33790>"
            ]
          },
          "metadata": {},
          "execution_count": 351
        }
      ]
    },
    {
      "cell_type": "markdown",
      "source": [
        "## Modelo B. DS no balanceado + 5 clases + 1 Conv sin droput"
      ],
      "metadata": {
        "id": "jq2HpKV9vj7z"
      }
    },
    {
      "cell_type": "code",
      "source": [
        "def get_conv_model_B(num_classes, img_size=6, compile=True):\n",
        "    tf.keras.backend.clear_session()\n",
        "    print (\"using\",num_classes,\"classes\")\n",
        "    inputs = tf.keras.Input(shape=(img_size,img_size,1), name=\"input_1\")\n",
        "    layers = tf.keras.layers.Conv2D(15,(3,3), activation=\"relu\", padding=\"SAME\")(inputs)\n",
        "    layers = tf.keras.layers.Flatten()(layers)\n",
        "    predictions = tf.keras.layers.Dense(num_classes, activation=tf.nn.softmax, name=\"output_1\")(layers)\n",
        "    model = tf.keras.Model(inputs = inputs, outputs=predictions)\n",
        "    if compile:\n",
        "        model.compile(optimizer='adam',\n",
        "                      loss='sparse_categorical_crossentropy',\n",
        "                      metrics=['accuracy'])\n",
        "    return model"
      ],
      "metadata": {
        "id": "K4UzdRGBvvm3"
      },
      "execution_count": 352,
      "outputs": []
    },
    {
      "cell_type": "code",
      "source": [
        "num_classes = len(np.unique(y_multi))\n",
        "model = get_conv_model_B(num_classes)"
      ],
      "metadata": {
        "colab": {
          "base_uri": "https://localhost:8080/"
        },
        "id": "nOP_xFeAv4mB",
        "outputId": "19ba5656-c9a1-428f-8f84-efdf1d544ef4"
      },
      "execution_count": 353,
      "outputs": [
        {
          "output_type": "stream",
          "name": "stdout",
          "text": [
            "using 5 classes\n"
          ]
        }
      ]
    },
    {
      "cell_type": "code",
      "source": [
        "def train(model, batch_size, epochs, model_name=\"\"):\n",
        "    tensorboard = tf.keras.callbacks.TensorBoard(log_dir=\"logs/\"+model_name+\"_\"+\"{}\".format(time()))\n",
        "    model.reset_states()\n",
        "    model.fit(xm_train, ym_train, epochs=epochs, callbacks=[tensorboard],\n",
        "              batch_size=batch_size,\n",
        "              validation_data=(xm_test, ym_test))\n",
        "    metrics = model.evaluate(xm_test, ym_test)\n",
        "    return {k:v for k,v in zip (model.metrics_names, metrics)}"
      ],
      "metadata": {
        "id": "GfwiuJ45v4j9"
      },
      "execution_count": 354,
      "outputs": []
    },
    {
      "cell_type": "code",
      "source": [
        "model = get_conv_model_B(num_classes)\n",
        "model.summary()"
      ],
      "metadata": {
        "colab": {
          "base_uri": "https://localhost:8080/"
        },
        "id": "weOkpATkwGck",
        "outputId": "133db683-f46e-4b4c-c90c-894dd3f915a1"
      },
      "execution_count": 355,
      "outputs": [
        {
          "output_type": "stream",
          "name": "stdout",
          "text": [
            "using 5 classes\n",
            "Model: \"model\"\n",
            "_________________________________________________________________\n",
            " Layer (type)                Output Shape              Param #   \n",
            "=================================================================\n",
            " input_1 (InputLayer)        [(None, 6, 6, 1)]         0         \n",
            "                                                                 \n",
            " conv2d (Conv2D)             (None, 6, 6, 15)          150       \n",
            "                                                                 \n",
            " flatten (Flatten)           (None, 540)               0         \n",
            "                                                                 \n",
            " output_1 (Dense)            (None, 5)                 2705      \n",
            "                                                                 \n",
            "=================================================================\n",
            "Total params: 2,855\n",
            "Trainable params: 2,855\n",
            "Non-trainable params: 0\n",
            "_________________________________________________________________\n"
          ]
        }
      ]
    },
    {
      "cell_type": "code",
      "source": [
        "train(model, batch_size=32, epochs=10, model_name=\"model_B\")"
      ],
      "metadata": {
        "colab": {
          "base_uri": "https://localhost:8080/"
        },
        "id": "rAn8eb8KwRUf",
        "outputId": "7329e887-d41e-4f1b-eaaa-181ccb9f3622"
      },
      "execution_count": 356,
      "outputs": [
        {
          "output_type": "stream",
          "name": "stdout",
          "text": [
            "Epoch 1/10\n",
            "27839/27839 [==============================] - 81s 3ms/step - loss: 0.0562 - accuracy: 0.9795 - val_loss: 0.0296 - val_accuracy: 0.9893\n",
            "Epoch 2/10\n",
            "27839/27839 [==============================] - 77s 3ms/step - loss: 0.0255 - accuracy: 0.9892 - val_loss: 0.0247 - val_accuracy: 0.9912\n",
            "Epoch 3/10\n",
            "27839/27839 [==============================] - 77s 3ms/step - loss: 0.0225 - accuracy: 0.9902 - val_loss: 0.0213 - val_accuracy: 0.9909\n",
            "Epoch 4/10\n",
            "27839/27839 [==============================] - 76s 3ms/step - loss: 0.0204 - accuracy: 0.9910 - val_loss: 0.0202 - val_accuracy: 0.9903\n",
            "Epoch 5/10\n",
            "27839/27839 [==============================] - 68s 2ms/step - loss: 0.0189 - accuracy: 0.9919 - val_loss: 0.0190 - val_accuracy: 0.9921\n",
            "Epoch 6/10\n",
            "27839/27839 [==============================] - 70s 3ms/step - loss: 0.0177 - accuracy: 0.9927 - val_loss: 0.0178 - val_accuracy: 0.9928\n",
            "Epoch 7/10\n",
            "27839/27839 [==============================] - 67s 2ms/step - loss: 0.0168 - accuracy: 0.9933 - val_loss: 0.0167 - val_accuracy: 0.9947\n",
            "Epoch 8/10\n",
            "27839/27839 [==============================] - 76s 3ms/step - loss: 0.0160 - accuracy: 0.9938 - val_loss: 0.0160 - val_accuracy: 0.9942\n",
            "Epoch 9/10\n",
            "27839/27839 [==============================] - 67s 2ms/step - loss: 0.0153 - accuracy: 0.9942 - val_loss: 0.0152 - val_accuracy: 0.9948\n",
            "Epoch 10/10\n",
            "27839/27839 [==============================] - 77s 3ms/step - loss: 0.0148 - accuracy: 0.9945 - val_loss: 0.0150 - val_accuracy: 0.9940\n",
            "9280/9280 [==============================] - 14s 1ms/step - loss: 0.0150 - accuracy: 0.9940\n"
          ]
        },
        {
          "output_type": "execute_result",
          "data": {
            "text/plain": [
              "{'accuracy': 0.9940292239189148, 'loss': 0.014991449192166328}"
            ]
          },
          "metadata": {},
          "execution_count": 356
        }
      ]
    },
    {
      "cell_type": "code",
      "source": [
        "ym_preds = model.predict(xm_test).argmax(axis=1)"
      ],
      "metadata": {
        "id": "VTqtwqxOwRSt"
      },
      "execution_count": 357,
      "outputs": []
    },
    {
      "cell_type": "code",
      "source": [
        "print(\"Accuracy: \",accuracy_score(ym_test,ym_preds), \" F1-Score: \", f1_score(ym_test,ym_preds, average = \"macro\"))\n",
        "matrix_conf(ym_test, ym_preds, dict_multi.values())"
      ],
      "metadata": {
        "colab": {
          "base_uri": "https://localhost:8080/",
          "height": 763
        },
        "id": "0gNBvNBqw5eH",
        "outputId": "3df6c29b-a639-48ab-ea72-1768aa2c48f8"
      },
      "execution_count": 358,
      "outputs": [
        {
          "output_type": "stream",
          "name": "stdout",
          "text": [
            "Accuracy:  0.9940292174334727  F1-Score:  0.5461939332798742\n"
          ]
        },
        {
          "output_type": "display_data",
          "data": {
            "text/plain": [
              "<Figure size 720x720 with 2 Axes>"
            ],
            "image/png": "[encoded data removed]"
          },
          "metadata": {
            "needs_background": "light"
          }
        },
        {
          "output_type": "execute_result",
          "data": {
            "text/plain": [
              "<matplotlib.axes._subplots.AxesSubplot at 0x7fd1735d9b10>"
            ]
          },
          "metadata": {},
          "execution_count": 358
        }
      ]
    },
    {
      "cell_type": "markdown",
      "source": [
        "## Modelo C. DS no balanceado + 5 clases + 1 Conv 1 Dense con dropout\n",
        "\n",
        "\n"
      ],
      "metadata": {
        "id": "epz29bRUlY2P"
      }
    },
    {
      "cell_type": "code",
      "source": [
        "def get_conv_model_C(num_classes, img_size=6, compile=True):\n",
        "    tf.keras.backend.clear_session()\n",
        "    print (\"using\",num_classes,\"classes\")\n",
        "    inputs = tf.keras.Input(shape=(img_size,img_size,1), name=\"input_1\")\n",
        "    layers = tf.keras.layers.Conv2D(15,(3,3), activation=\"relu\", padding=\"SAME\")(inputs)\n",
        "    layers = tf.keras.layers.Flatten()(layers)\n",
        "    layers = tf.keras.layers.Dense(16, activation=tf.nn.relu)(layers)\n",
        "    layers = tf.keras.layers.Dropout(0.2)(layers)\n",
        "    predictions = tf.keras.layers.Dense(num_classes, activation=tf.nn.softmax, name=\"output_1\")(layers)\n",
        "    model = tf.keras.Model(inputs = inputs, outputs=predictions)\n",
        "    if compile:\n",
        "        model.compile(optimizer='adam',\n",
        "                      loss='sparse_categorical_crossentropy',\n",
        "                      metrics=['accuracy'])\n",
        "    return model"
      ],
      "metadata": {
        "id": "0LW6y6v1phuK"
      },
      "execution_count": 359,
      "outputs": []
    },
    {
      "cell_type": "code",
      "source": [
        "num_classes = len(np.unique(y_multi))\n",
        "model = get_conv_model_C(num_classes)"
      ],
      "metadata": {
        "colab": {
          "base_uri": "https://localhost:8080/"
        },
        "id": "pMXyfukIpocL",
        "outputId": "f89cb675-f745-4dd0-ce64-cadf859d3288"
      },
      "execution_count": 360,
      "outputs": [
        {
          "output_type": "stream",
          "name": "stdout",
          "text": [
            "using 5 classes\n"
          ]
        }
      ]
    },
    {
      "cell_type": "code",
      "source": [
        "def train(model, batch_size, epochs, model_name=\"\"):\n",
        "    tensorboard = tf.keras.callbacks.TensorBoard(log_dir=\"logs/\"+model_name+\"_\"+\"{}\".format(time()))\n",
        "    model.reset_states()\n",
        "    model.fit(xm_train, ym_train, epochs=epochs, callbacks=[tensorboard],\n",
        "              batch_size=batch_size,\n",
        "              validation_data=(xm_test, ym_test))\n",
        "    metrics = model.evaluate(xm_test, ym_test)\n",
        "    return {k:v for k,v in zip (model.metrics_names, metrics)}\n"
      ],
      "metadata": {
        "id": "Hs3W8HqRqMHT"
      },
      "execution_count": 361,
      "outputs": []
    },
    {
      "cell_type": "code",
      "source": [
        "model = get_conv_model_C(num_classes)\n",
        "model.summary()"
      ],
      "metadata": {
        "colab": {
          "base_uri": "https://localhost:8080/"
        },
        "id": "Jl52-tUeqTC2",
        "outputId": "3bf3f8b0-9832-476c-9329-bf604687d383"
      },
      "execution_count": 362,
      "outputs": [
        {
          "output_type": "stream",
          "name": "stdout",
          "text": [
            "using 5 classes\n",
            "Model: \"model\"\n",
            "_________________________________________________________________\n",
            " Layer (type)                Output Shape              Param #   \n",
            "=================================================================\n",
            " input_1 (InputLayer)        [(None, 6, 6, 1)]         0         \n",
            "                                                                 \n",
            " conv2d (Conv2D)             (None, 6, 6, 15)          150       \n",
            "                                                                 \n",
            " flatten (Flatten)           (None, 540)               0         \n",
            "                                                                 \n",
            " dense (Dense)               (None, 16)                8656      \n",
            "                                                                 \n",
            " dropout (Dropout)           (None, 16)                0         \n",
            "                                                                 \n",
            " output_1 (Dense)            (None, 5)                 85        \n",
            "                                                                 \n",
            "=================================================================\n",
            "Total params: 8,891\n",
            "Trainable params: 8,891\n",
            "Non-trainable params: 0\n",
            "_________________________________________________________________\n"
          ]
        }
      ]
    },
    {
      "cell_type": "code",
      "source": [
        "train(model, batch_size=32, epochs=10, model_name=\"model_C\")"
      ],
      "metadata": {
        "colab": {
          "base_uri": "https://localhost:8080/"
        },
        "id": "QWSdj307qWxe",
        "outputId": "11cdb095-17ac-494a-d77f-4edf742b7f66"
      },
      "execution_count": 363,
      "outputs": [
        {
          "output_type": "stream",
          "name": "stdout",
          "text": [
            "Epoch 1/10\n",
            "27839/27839 [==============================] - 73s 3ms/step - loss: 0.0530 - accuracy: 0.9811 - val_loss: 0.0256 - val_accuracy: 0.9880\n",
            "Epoch 2/10\n",
            "27839/27839 [==============================] - 80s 3ms/step - loss: 0.0290 - accuracy: 0.9887 - val_loss: 0.0211 - val_accuracy: 0.9920\n",
            "Epoch 3/10\n",
            "27839/27839 [==============================] - 80s 3ms/step - loss: 0.0231 - accuracy: 0.9915 - val_loss: 0.0176 - val_accuracy: 0.9944\n",
            "Epoch 4/10\n",
            "27839/27839 [==============================] - 80s 3ms/step - loss: 0.0194 - accuracy: 0.9931 - val_loss: 0.0171 - val_accuracy: 0.9933\n",
            "Epoch 5/10\n",
            "27839/27839 [==============================] - 80s 3ms/step - loss: 0.0173 - accuracy: 0.9938 - val_loss: 0.0164 - val_accuracy: 0.9932\n",
            "Epoch 6/10\n",
            "27839/27839 [==============================] - 71s 3ms/step - loss: 0.0159 - accuracy: 0.9943 - val_loss: 0.0125 - val_accuracy: 0.9955\n",
            "Epoch 7/10\n",
            "27839/27839 [==============================] - 80s 3ms/step - loss: 0.0147 - accuracy: 0.9946 - val_loss: 0.0113 - val_accuracy: 0.9958\n",
            "Epoch 8/10\n",
            "27839/27839 [==============================] - 81s 3ms/step - loss: 0.0133 - accuracy: 0.9949 - val_loss: 0.0108 - val_accuracy: 0.9961\n",
            "Epoch 9/10\n",
            "27839/27839 [==============================] - 81s 3ms/step - loss: 0.0127 - accuracy: 0.9950 - val_loss: 0.0104 - val_accuracy: 0.9958\n",
            "Epoch 10/10\n",
            "27839/27839 [==============================] - 80s 3ms/step - loss: 0.0124 - accuracy: 0.9951 - val_loss: 0.0097 - val_accuracy: 0.9961\n",
            "9280/9280 [==============================] - 14s 2ms/step - loss: 0.0097 - accuracy: 0.9961\n"
          ]
        },
        {
          "output_type": "execute_result",
          "data": {
            "text/plain": [
              "{'accuracy': 0.9960767030715942, 'loss': 0.009691043756902218}"
            ]
          },
          "metadata": {},
          "execution_count": 363
        }
      ]
    },
    {
      "cell_type": "code",
      "source": [
        "ym_preds = model.predict(xm_test).argmax(axis=1)"
      ],
      "metadata": {
        "id": "9Bl5QYxG5PsF"
      },
      "execution_count": 364,
      "outputs": []
    },
    {
      "cell_type": "code",
      "source": [
        "print(\"Accuracy: \",accuracy_score(ym_test,ym_preds), \" F1-Score: \", f1_score(ym_test,ym_preds, average = \"macro\"))\n",
        "matrix_conf(ym_test, ym_preds, dict_multi.values())"
      ],
      "metadata": {
        "colab": {
          "base_uri": "https://localhost:8080/",
          "height": 763
        },
        "id": "JnfINladbbJb",
        "outputId": "806f1774-8430-4e24-b589-7aaadb2bfe5c"
      },
      "execution_count": 365,
      "outputs": [
        {
          "output_type": "stream",
          "name": "stdout",
          "text": [
            "Accuracy:  0.9960767277552147  F1-Score:  0.5333374535916504\n"
          ]
        },
        {
          "output_type": "display_data",
          "data": {
            "text/plain": [
              "<Figure size 720x720 with 2 Axes>"
            ],
            "image/png": "[encoded data removed]"
          },
          "metadata": {
            "needs_background": "light"
          }
        },
        {
          "output_type": "execute_result",
          "data": {
            "text/plain": [
              "<matplotlib.axes._subplots.AxesSubplot at 0x7fd1759797d0>"
            ]
          },
          "metadata": {},
          "execution_count": 365
        }
      ]
    },
    {
      "cell_type": "markdown",
      "source": [
        "## Modelo D. DS no balanceado + 5 clases + 2 Conv 1 Dense con dropout/pooling"
      ],
      "metadata": {
        "id": "oVnvAnS7H-OZ"
      }
    },
    {
      "cell_type": "code",
      "source": [
        "def get_conv_model_D(num_classes, img_size=6, compile=True):\n",
        "    tf.keras.backend.clear_session()\n",
        "    print (\"using\",num_classes,\"classes\")\n",
        "    inputs = tf.keras.Input(shape=(img_size,img_size,1), name=\"input_1\")\n",
        "    layers = tf.keras.layers.Conv2D(15,(2,2), activation=\"relu\")(inputs)\n",
        "    layers = tf.keras.layers.MaxPool2D((2,2))(layers)\n",
        "    layers = tf.keras.layers.Conv2D(60,(2,2), activation=\"relu\")(layers)\n",
        "    layers = tf.keras.layers.Flatten()(layers)\n",
        "    layers = tf.keras.layers.Dense(16, activation=tf.nn.relu)(layers)\n",
        "    layers = tf.keras.layers.Dropout(0.2)(layers)\n",
        "    predictions = tf.keras.layers.Dense(num_classes, activation=tf.nn.softmax, name=\"output_1\")(layers)\n",
        "    model = tf.keras.Model(inputs = inputs, outputs=predictions)\n",
        "    if compile:\n",
        "        model.compile(optimizer='adam',\n",
        "                      loss='sparse_categorical_crossentropy',\n",
        "                      metrics=['accuracy'])\n",
        "    return model"
      ],
      "metadata": {
        "id": "FsBWBMI1H9Vq"
      },
      "execution_count": 366,
      "outputs": []
    },
    {
      "cell_type": "code",
      "source": [
        "num_classes = len(np.unique(y_multi))\n",
        "model = get_conv_model_D(num_classes)"
      ],
      "metadata": {
        "colab": {
          "base_uri": "https://localhost:8080/"
        },
        "id": "4V7mCC-7IsJD",
        "outputId": "9672249d-db75-445e-ee1b-aa67dcb251b5"
      },
      "execution_count": 367,
      "outputs": [
        {
          "output_type": "stream",
          "name": "stdout",
          "text": [
            "using 5 classes\n"
          ]
        }
      ]
    },
    {
      "cell_type": "code",
      "source": [
        "def train(model, batch_size, epochs, model_name=\"\"):\n",
        "    tensorboard = tf.keras.callbacks.TensorBoard(log_dir=\"logs/\"+model_name+\"_\"+\"{}\".format(time()))\n",
        "    model.reset_states()\n",
        "    model.fit(xm_train, ym_train, epochs=epochs, callbacks=[tensorboard],\n",
        "              batch_size=batch_size,\n",
        "              validation_data=(xm_test, ym_test))\n",
        "    metrics = model.evaluate(xm_test, ym_test)\n",
        "    return {k:v for k,v in zip (model.metrics_names, metrics)}"
      ],
      "metadata": {
        "id": "zMFIUV5xJiJe"
      },
      "execution_count": 369,
      "outputs": []
    },
    {
      "cell_type": "code",
      "source": [
        "model = get_conv_model_D(num_classes)\n",
        "model.summary()"
      ],
      "metadata": {
        "colab": {
          "base_uri": "https://localhost:8080/"
        },
        "id": "YOmZRhAkJnIg",
        "outputId": "6b68c319-df7f-4e65-ada2-a990e90e1310"
      },
      "execution_count": 370,
      "outputs": [
        {
          "output_type": "stream",
          "name": "stdout",
          "text": [
            "using 5 classes\n",
            "Model: \"model\"\n",
            "_________________________________________________________________\n",
            " Layer (type)                Output Shape              Param #   \n",
            "=================================================================\n",
            " input_1 (InputLayer)        [(None, 6, 6, 1)]         0         \n",
            "                                                                 \n",
            " conv2d (Conv2D)             (None, 5, 5, 15)          75        \n",
            "                                                                 \n",
            " max_pooling2d (MaxPooling2D  (None, 2, 2, 15)         0         \n",
            " )                                                               \n",
            "                                                                 \n",
            " conv2d_1 (Conv2D)           (None, 1, 1, 60)          3660      \n",
            "                                                                 \n",
            " flatten (Flatten)           (None, 60)                0         \n",
            "                                                                 \n",
            " dense (Dense)               (None, 16)                976       \n",
            "                                                                 \n",
            " dropout (Dropout)           (None, 16)                0         \n",
            "                                                                 \n",
            " output_1 (Dense)            (None, 5)                 85        \n",
            "                                                                 \n",
            "=================================================================\n",
            "Total params: 4,796\n",
            "Trainable params: 4,796\n",
            "Non-trainable params: 0\n",
            "_________________________________________________________________\n"
          ]
        }
      ]
    },
    {
      "cell_type": "code",
      "source": [
        "train(model, batch_size=32, epochs=10, model_name=\"model_D\")"
      ],
      "metadata": {
        "colab": {
          "base_uri": "https://localhost:8080/"
        },
        "id": "kcyiiHSNJtgu",
        "outputId": "49612b7a-7029-4568-8282-91c0ab08583f"
      },
      "execution_count": 371,
      "outputs": [
        {
          "output_type": "stream",
          "name": "stdout",
          "text": [
            "Epoch 1/10\n",
            "27839/27839 [==============================] - 94s 3ms/step - loss: 0.0897 - accuracy: 0.9717 - val_loss: 0.0449 - val_accuracy: 0.9861\n",
            "Epoch 2/10\n",
            "27839/27839 [==============================] - 89s 3ms/step - loss: 0.0408 - accuracy: 0.9872 - val_loss: 0.0403 - val_accuracy: 0.9857\n",
            "Epoch 3/10\n",
            "27839/27839 [==============================] - 83s 3ms/step - loss: 0.0330 - accuracy: 0.9892 - val_loss: 0.0375 - val_accuracy: 0.9891\n",
            "Epoch 4/10\n",
            "27839/27839 [==============================] - 72s 3ms/step - loss: 0.0293 - accuracy: 0.9901 - val_loss: 0.0240 - val_accuracy: 0.9925\n",
            "Epoch 5/10\n",
            "27839/27839 [==============================] - 71s 3ms/step - loss: 0.0257 - accuracy: 0.9907 - val_loss: 0.0202 - val_accuracy: 0.9918\n",
            "Epoch 6/10\n",
            "27839/27839 [==============================] - 81s 3ms/step - loss: 0.0226 - accuracy: 0.9921 - val_loss: 0.0191 - val_accuracy: 0.9945\n",
            "Epoch 7/10\n",
            "27839/27839 [==============================] - 81s 3ms/step - loss: 0.0217 - accuracy: 0.9925 - val_loss: 0.0217 - val_accuracy: 0.9933\n",
            "Epoch 8/10\n",
            "27839/27839 [==============================] - 71s 3ms/step - loss: 0.0210 - accuracy: 0.9927 - val_loss: 0.0175 - val_accuracy: 0.9965\n",
            "Epoch 9/10\n",
            "27839/27839 [==============================] - 71s 3ms/step - loss: 0.0209 - accuracy: 0.9929 - val_loss: 0.0235 - val_accuracy: 0.9923\n",
            "Epoch 10/10\n",
            "27839/27839 [==============================] - 81s 3ms/step - loss: 0.0205 - accuracy: 0.9930 - val_loss: 0.0173 - val_accuracy: 0.9946\n",
            "9280/9280 [==============================] - 13s 1ms/step - loss: 0.0173 - accuracy: 0.9946\n"
          ]
        },
        {
          "output_type": "execute_result",
          "data": {
            "text/plain": [
              "{'accuracy': 0.9945511817932129, 'loss': 0.01725051738321781}"
            ]
          },
          "metadata": {},
          "execution_count": 371
        }
      ]
    },
    {
      "cell_type": "code",
      "source": [
        "ym_preds = model.predict(xm_test).argmax(axis=1)"
      ],
      "metadata": {
        "id": "wUQqcEjkNZIp"
      },
      "execution_count": 372,
      "outputs": []
    },
    {
      "cell_type": "code",
      "source": [
        "print(\"Accuracy: \",accuracy_score(ym_test,ym_preds), \" F1-Score: \", f1_score(ym_test,ym_preds, average = \"macro\"))\n",
        "matrix_conf(ym_test, ym_preds, dict_multi.values())"
      ],
      "metadata": {
        "colab": {
          "base_uri": "https://localhost:8080/",
          "height": 763
        },
        "id": "Zr0QLEbhNdZU",
        "outputId": "7abc3144-05c1-4176-c933-4a0559d40574"
      },
      "execution_count": 373,
      "outputs": [
        {
          "output_type": "stream",
          "name": "stdout",
          "text": [
            "Accuracy:  0.9945511978608905  F1-Score:  0.5295262001660482\n"
          ]
        },
        {
          "output_type": "display_data",
          "data": {
            "text/plain": [
              "<Figure size 720x720 with 2 Axes>"
            ],
            "image/png": "[encoded data removed]"
          },
          "metadata": {
            "needs_background": "light"
          }
        },
        {
          "output_type": "execute_result",
          "data": {
            "text/plain": [
              "<matplotlib.axes._subplots.AxesSubplot at 0x7fd173513590>"
            ]
          },
          "metadata": {},
          "execution_count": 373
        }
      ]
    }
  ]
}