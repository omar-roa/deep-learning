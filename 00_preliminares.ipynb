{
  "nbformat": 4,
  "nbformat_minor": 0,
  "metadata": {
    "colab": {
      "name": "00 - preliminares.ipynb",
      "provenance": [],
      "collapsed_sections": [],
      "authorship_tag": "ABX9TyPkNz+aHkf+S/tOFdoqiNDA",
      "include_colab_link": true
    },
    "kernelspec": {
      "name": "python3",
      "display_name": "Python 3"
    },
    "language_info": {
      "name": "python"
    }
  },
  "cells": [
    {
      "cell_type": "markdown",
      "metadata": {
        "id": "view-in-github",
        "colab_type": "text"
      },
      "source": [
        "<a href=\"https://colab.research.google.com/github/omar-roa/deep-learning/blob/main/00_preliminares.ipynb\" target=\"_parent\"><img src=\"https://colab.research.google.com/assets/colab-badge.svg\" alt=\"Open In Colab\"/></a>"
      ]
    },
    {
      "cell_type": "markdown",
      "source": [
        "# Obteniendo dataset de Kaggle a Drive"
      ],
      "metadata": {
        "id": "ylbXmJ0LR8uX"
      }
    },
    {
      "cell_type": "code",
      "source": [
        "from google.colab import drive\n",
        "drive.mount('/content/gdrive')"
      ],
      "metadata": {
        "id": "QKCWhL6VSL3H",
        "colab": {
          "base_uri": "https://localhost:8080/"
        },
        "outputId": "92927c45-84d6-4125-b8b8-89d3163a2f71"
      },
      "execution_count": 3,
      "outputs": [
        {
          "output_type": "stream",
          "name": "stdout",
          "text": [
            "Mounted at /content/gdrive\n"
          ]
        }
      ]
    },
    {
      "cell_type": "code",
      "source": [
        "import os\n",
        "os.environ['KAGGLE_CONFIG_DIR'] = '/content/gdrive/MyDrive/deep-learning'"
      ],
      "metadata": {
        "id": "5MztDG9DTTH1"
      },
      "execution_count": 6,
      "outputs": []
    },
    {
      "cell_type": "code",
      "execution_count": 8,
      "metadata": {
        "id": "I4eNdfiPtghz",
        "colab": {
          "base_uri": "https://localhost:8080/"
        },
        "outputId": "5aef6a34-e0ec-4e70-975e-bbf736c4d2a8"
      },
      "outputs": [
        {
          "output_type": "stream",
          "name": "stdout",
          "text": [
            "/content/gdrive/MyDrive/deep-learning\n"
          ]
        }
      ],
      "source": [
        "%cd /content/gdrive/MyDrive/deep-learning"
      ]
    },
    {
      "cell_type": "code",
      "source": [
        "!ls"
      ],
      "metadata": {
        "colab": {
          "base_uri": "https://localhost:8080/"
        },
        "id": "l1yKeXh4e4ze",
        "outputId": "323dd2fc-fb93-4572-efd7-9842eeef8e81"
      },
      "execution_count": 9,
      "outputs": [
        {
          "output_type": "stream",
          "name": "stdout",
          "text": [
            "'00 - preliminares.ipynb'\t\t   kaggle.json\n",
            "'Copia de 00 - obteniendo dataset.ipynb'\n"
          ]
        }
      ]
    },
    {
      "cell_type": "code",
      "source": [
        "!kaggle datasets download -d subhajournal/sdn-intrusion-detection"
      ],
      "metadata": {
        "colab": {
          "base_uri": "https://localhost:8080/"
        },
        "id": "_jqtM8Nte9kd",
        "outputId": "a4b78f65-77e2-428c-c14f-f66a3b8e1dc1"
      },
      "execution_count": 10,
      "outputs": [
        {
          "output_type": "stream",
          "name": "stdout",
          "text": [
            "Downloading sdn-intrusion-detection.zip to /content/gdrive/MyDrive/deep-learning\n",
            " 93% 115M/123M [00:00<00:00, 157MB/s] \n",
            "100% 123M/123M [00:01<00:00, 128MB/s]\n"
          ]
        }
      ]
    },
    {
      "cell_type": "code",
      "source": [
        "!unzip sdn-intrusion-detection.zip"
      ],
      "metadata": {
        "colab": {
          "base_uri": "https://localhost:8080/"
        },
        "id": "XpDf96pefEjO",
        "outputId": "867527c6-0810-44c1-ab3d-35e154a695b3"
      },
      "execution_count": 11,
      "outputs": [
        {
          "output_type": "stream",
          "name": "stdout",
          "text": [
            "Archive:  sdn-intrusion-detection.zip\n",
            "  inflating: SDN_Intrusion.csv       \n"
          ]
        }
      ]
    },
    {
      "cell_type": "code",
      "source": [
        "import os\n",
        "from google.colab import drive\n",
        "\n",
        "drive.mount('/content/gdrive')\n",
        "os.environ['KAGGLE_CONFIG_DIR'] = '/content/gdrive/MyDrive/deep-learning'\n",
        "%cd /content/gdrive/MyDrive/deep-learning"
      ],
      "metadata": {
        "id": "--J1DUVVjVpk"
      },
      "execution_count": null,
      "outputs": []
    }
  ]
}