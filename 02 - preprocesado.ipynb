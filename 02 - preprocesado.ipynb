{
  "nbformat": 4,
  "nbformat_minor": 0,
  "metadata": {
    "colab": {
      "name": "02 - preprocesado.ipynb",
      "provenance": [],
      "collapsed_sections": [],
      "authorship_tag": "ABX9TyOJ52xB9XnV6AtQ0KMfSyHP",
      "include_colab_link": true
    },
    "kernelspec": {
      "name": "python3",
      "display_name": "Python 3"
    },
    "language_info": {
      "name": "python"
    }
  },
  "cells": [
    {
      "cell_type": "markdown",
      "metadata": {
        "id": "view-in-github",
        "colab_type": "text"
      },
      "source": [
        "<a href=\"https://colab.research.google.com/github/omar-roa/deep-learning/blob/main/02%20-%20preprocesado.ipynb\" target=\"_parent\"><img src=\"https://colab.research.google.com/assets/colab-badge.svg\" alt=\"Open In Colab\"/></a>"
      ]
    },
    {
      "cell_type": "markdown",
      "source": [
        "# 0. Librerías"
      ],
      "metadata": {
        "id": "Vd2JHZTrmsMb"
      }
    },
    {
      "cell_type": "code",
      "source": [
        "from sklearn import preprocessing\n",
        "from sklearn import tree\n",
        "from sklearn.ensemble import RandomForestClassifier\n",
        "from sklearn.feature_selection import f_classif\n",
        "from sklearn.feature_selection import SelectKBest\n",
        "from sklearn.feature_selection import VarianceThreshold\n",
        "from sklearn.linear_model import LogisticRegression\n",
        "from sklearn.metrics import confusion_matrix\n",
        "from sklearn.metrics import f1_score,accuracy_score\n",
        "from sklearn.model_selection import train_test_split\n",
        "from sklearn.preprocessing import MinMaxScaler\n",
        "import matplotlib.pyplot as plt\n",
        "import numpy as np\n",
        "import pandas as pd\n",
        "import seaborn as sns"
      ],
      "metadata": {
        "id": "p_8cFewbh7bb"
      },
      "execution_count": null,
      "outputs": []
    },
    {
      "cell_type": "code",
      "source": [
        "def matrix_conf(y_test, y_pred, labels):\n",
        "    cm = confusion_matrix(y_test, y_pred)\n",
        "\n",
        "    # Normalizar\n",
        "    cmn = cm.astype('float') / cm.sum(axis=1)[:, np.newaxis]\n",
        "    \n",
        "    # Graficar\n",
        "    fig, ax = plt.subplots(figsize=(10,10))\n",
        "    sns.heatmap(cmn, cmap=\"Blues\", annot=True, fmt='.3f', xticklabels=labels, yticklabels=labels)\n",
        "    plt.ylabel('Real')\n",
        "    plt.xlabel('Predicción')\n",
        "    plt.show(block=False)\n",
        "\n",
        "    return ax"
      ],
      "metadata": {
        "id": "ulqoKPrVYQrE"
      },
      "execution_count": null,
      "outputs": []
    },
    {
      "cell_type": "markdown",
      "source": [
        "# 1. Retomamos el dataset original\n",
        "\n"
      ],
      "metadata": {
        "id": "Ds_TaSshhW2h"
      }
    },
    {
      "cell_type": "code",
      "source": [
        "%%capture\n",
        "!wget --load-cookies /tmp/cookies.txt \"https://docs.google.com/uc?export=download&confirm=$(wget --quiet --save-cookies /tmp/cookies.txt --keep-session-cookies --no-check-certificate 'https://docs.google.com/uc?export=download&id=1-57BtQwaNxYvdkKVUJu0n15Kx3OwgJRj' -O- | sed -rn 's/.*confirm=([0-9A-Za-z_]+).*/\\1\\n/p')&id=1-57BtQwaNxYvdkKVUJu0n15Kx3OwgJRj\" -O SDN_Intrusion.csv && rm -rf /tmp/cookies.txt"
      ],
      "metadata": {
        "id": "6yLJaFRMhU74"
      },
      "execution_count": null,
      "outputs": []
    },
    {
      "cell_type": "code",
      "source": [
        "ds_or = pd.read_csv('/content/SDN_Intrusion.csv')"
      ],
      "metadata": {
        "id": "YO3j3OJriCt_"
      },
      "execution_count": null,
      "outputs": []
    },
    {
      "cell_type": "markdown",
      "source": [
        "# 2. Comencemos a depurar el dataset\n",
        "\n",
        "Como consecuencia de la exploración inicial de los datos, se han identificado algunos temas que deben ser abordados:\n",
        "1.   El dataset contiene entradas atípicas\n",
        "1.   ¿Hay características innecesarias para la definición del modelo?\n",
        "1.   El tráfico benigno representa el doble de tráfico malicioso\n",
        "\n"
      ],
      "metadata": {
        "id": "vEuk6uiimX-k"
      }
    },
    {
      "cell_type": "code",
      "source": [
        "# Convertir las clases en variables numéricas\n",
        "clases = list(ds_or['Class'].unique())\n",
        "\n",
        "clases_dict = {}\n",
        "dict_multi = {}\n",
        "\n",
        "for i, c in enumerate (clases):\n",
        "    clases_dict[c] = i\n",
        "    dict_multi[i] = c\n",
        "\n",
        "ds_v2 = ds_or.replace(clases_dict)\n",
        "ds_v2['Class'].unique()"
      ],
      "metadata": {
        "colab": {
          "base_uri": "https://localhost:8080/"
        },
        "id": "p509RLqfxeQ8",
        "outputId": "85b7564a-6707-4751-89d1-2c3afc37281d"
      },
      "execution_count": null,
      "outputs": [
        {
          "output_type": "execute_result",
          "data": {
            "text/plain": [
              "array([0, 1, 2, 3, 4])"
            ]
          },
          "metadata": {},
          "execution_count": 5
        }
      ]
    },
    {
      "cell_type": "markdown",
      "source": [
        "Estos son los **labels** de las clases"
      ],
      "metadata": {
        "id": "H3ybogE-5diS"
      }
    },
    {
      "cell_type": "code",
      "source": [
        "print(dict_multi)"
      ],
      "metadata": {
        "colab": {
          "base_uri": "https://localhost:8080/"
        },
        "id": "XBfosw6ZuEye",
        "outputId": "4f6b9a0e-8ee2-410f-ddfd-c6992b754290"
      },
      "execution_count": null,
      "outputs": [
        {
          "output_type": "stream",
          "name": "stdout",
          "text": [
            "{0: 'DDoS', 1: 'BENIGN', 2: 'Web Attack � Brute Force', 3: 'Web Attack � XSS', 4: 'Web Attack � Sql Injection'}\n"
          ]
        }
      ]
    },
    {
      "cell_type": "markdown",
      "source": [
        "## El dataset contiene entradas en null\n",
        "\n",
        "71 entradas presentan valor Null en la características **Flow Bytes/s**. Esto representa solo el **0.006 %** del dataset. Se eliminarán del dataset"
      ],
      "metadata": {
        "id": "tNOHud5M2h7T"
      }
    },
    {
      "cell_type": "code",
      "source": [
        "pd.isnull(ds_v2[\"Flow Bytes/s\"]).value_counts()"
      ],
      "metadata": {
        "colab": {
          "base_uri": "https://localhost:8080/"
        },
        "id": "wT0jUMeIHNEj",
        "outputId": "4e7a2d45-4b78-41f2-e490-34dca5963dd2"
      },
      "execution_count": null,
      "outputs": [
        {
          "output_type": "execute_result",
          "data": {
            "text/plain": [
              "False    1188262\n",
              "True          71\n",
              "Name: Flow Bytes/s, dtype: int64"
            ]
          },
          "metadata": {},
          "execution_count": 7
        }
      ]
    },
    {
      "cell_type": "code",
      "source": [
        "# Se crea una serie con entradas True para valores nulos\n",
        "nulos = pd.isnull(ds_v2[\"Flow Bytes/s\"]) \n",
        "\n",
        "# Filtrando el dataset\n",
        "ds_drop = ds_or[nulos]\n",
        "\n",
        "# Ninguno de los candidatos a descarte es un ataque (clase minoritaria)\n",
        "ds_drop['Class'].value_counts()"
      ],
      "metadata": {
        "colab": {
          "base_uri": "https://localhost:8080/"
        },
        "id": "i__5XNlAjJBg",
        "outputId": "ac8641ed-baf5-41e7-dced-0755f1bd4b15"
      },
      "execution_count": null,
      "outputs": [
        {
          "output_type": "execute_result",
          "data": {
            "text/plain": [
              "BENIGN    71\n",
              "Name: Class, dtype: int64"
            ]
          },
          "metadata": {},
          "execution_count": 8
        }
      ]
    },
    {
      "cell_type": "code",
      "source": [
        "# Eliminando las entradas inconsistentes\n",
        "unn_drop = ds_drop['Unnamed: 0'].tolist()\n",
        "\n",
        "ds_v3 = ds_v2\n",
        "\n",
        "for i in unn_drop:\n",
        "    ds_v3 = ds_v3.drop(ds_v3[ds_v3['Unnamed: 0'] == i].index)"
      ],
      "metadata": {
        "id": "nwK2y9q4nPsL"
      },
      "execution_count": null,
      "outputs": []
    },
    {
      "cell_type": "code",
      "source": [
        "# Comprobamos que las nuevas dimensiones correspondan al número de datos normales\n",
        "ds_v3.shape"
      ],
      "metadata": {
        "colab": {
          "base_uri": "https://localhost:8080/"
        },
        "id": "X8jK5RS0FKGe",
        "outputId": "4f59c297-d334-4d02-87b3-14bd5827aec7"
      },
      "execution_count": null,
      "outputs": [
        {
          "output_type": "execute_result",
          "data": {
            "text/plain": [
              "(1188262, 80)"
            ]
          },
          "metadata": {},
          "execution_count": 10
        }
      ]
    },
    {
      "cell_type": "markdown",
      "source": [
        "Verificamos que no hayan valores nulos"
      ],
      "metadata": {
        "id": "EunXu_EuHeGl"
      }
    },
    {
      "cell_type": "code",
      "source": [
        "pd.isnull(ds_v3[\"Flow Bytes/s\"]).value_counts()"
      ],
      "metadata": {
        "colab": {
          "base_uri": "https://localhost:8080/"
        },
        "id": "6lcmKMGOG_Vp",
        "outputId": "f95f7117-fd80-4576-b920-02d30c8c8365"
      },
      "execution_count": null,
      "outputs": [
        {
          "output_type": "execute_result",
          "data": {
            "text/plain": [
              "False    1188262\n",
              "Name: Flow Bytes/s, dtype: int64"
            ]
          },
          "metadata": {},
          "execution_count": 11
        }
      ]
    },
    {
      "cell_type": "markdown",
      "source": [
        "## El dataset contiene entradas infinitas\n",
        "\n",
        "Identificamos 480 entradas con valor no finito en las característica **Flow Bytes/s** y **Flow Packets/s**\n"
      ],
      "metadata": {
        "id": "pxRHl8LQADM-"
      }
    },
    {
      "cell_type": "code",
      "source": [
        "with pd.option_context('display.max_rows', None,): \n",
        "    display(np.isfinite(ds_v3).sum())"
      ],
      "metadata": {
        "colab": {
          "base_uri": "https://localhost:8080/",
          "height": 1000
        },
        "id": "uL88RHQa_oh1",
        "outputId": "ec49cd7d-ccb6-40fd-db94-12b1757ee9e4"
      },
      "execution_count": null,
      "outputs": [
        {
          "output_type": "display_data",
          "data": {
            "text/plain": [
              "Unnamed: 0                      1188262\n",
              " Destination Port               1188262\n",
              " Flow Duration                  1188262\n",
              " Total Fwd Packets              1188262\n",
              " Total Backward Packets         1188262\n",
              "Total Length of Fwd Packets     1188262\n",
              " Total Length of Bwd Packets    1188262\n",
              " Fwd Packet Length Max          1188262\n",
              " Fwd Packet Length Min          1188262\n",
              " Fwd Packet Length Mean         1188262\n",
              " Fwd Packet Length Std          1188262\n",
              "Bwd Packet Length Max           1188262\n",
              " Bwd Packet Length Min          1188262\n",
              " Bwd Packet Length Mean         1188262\n",
              " Bwd Packet Length Std          1188262\n",
              "Flow Bytes/s                    1187782\n",
              " Flow Packets/s                 1187782\n",
              " Flow IAT Mean                  1188262\n",
              " Flow IAT Std                   1188262\n",
              " Flow IAT Max                   1188262\n",
              " Flow IAT Min                   1188262\n",
              "Fwd IAT Total                   1188262\n",
              " Fwd IAT Mean                   1188262\n",
              " Fwd IAT Std                    1188262\n",
              " Fwd IAT Max                    1188262\n",
              " Fwd IAT Min                    1188262\n",
              "Bwd IAT Total                   1188262\n",
              " Bwd IAT Mean                   1188262\n",
              " Bwd IAT Std                    1188262\n",
              " Bwd IAT Max                    1188262\n",
              " Bwd IAT Min                    1188262\n",
              "Fwd PSH Flags                   1188262\n",
              " Bwd PSH Flags                  1188262\n",
              " Fwd URG Flags                  1188262\n",
              " Bwd URG Flags                  1188262\n",
              " Fwd Header Length              1188262\n",
              " Bwd Header Length              1188262\n",
              "Fwd Packets/s                   1188262\n",
              " Bwd Packets/s                  1188262\n",
              " Min Packet Length              1188262\n",
              " Max Packet Length              1188262\n",
              " Packet Length Mean             1188262\n",
              " Packet Length Std              1188262\n",
              " Packet Length Variance         1188262\n",
              "FIN Flag Count                  1188262\n",
              " SYN Flag Count                 1188262\n",
              " RST Flag Count                 1188262\n",
              " PSH Flag Count                 1188262\n",
              " ACK Flag Count                 1188262\n",
              " URG Flag Count                 1188262\n",
              " CWE Flag Count                 1188262\n",
              " ECE Flag Count                 1188262\n",
              " Down/Up Ratio                  1188262\n",
              " Average Packet Size            1188262\n",
              " Avg Fwd Segment Size           1188262\n",
              " Avg Bwd Segment Size           1188262\n",
              " Fwd Header Length.1            1188262\n",
              "Fwd Avg Bytes/Bulk              1188262\n",
              " Fwd Avg Packets/Bulk           1188262\n",
              " Fwd Avg Bulk Rate              1188262\n",
              " Bwd Avg Bytes/Bulk             1188262\n",
              " Bwd Avg Packets/Bulk           1188262\n",
              "Bwd Avg Bulk Rate               1188262\n",
              "Subflow Fwd Packets             1188262\n",
              " Subflow Fwd Bytes              1188262\n",
              " Subflow Bwd Packets            1188262\n",
              " Subflow Bwd Bytes              1188262\n",
              "Init_Win_bytes_forward          1188262\n",
              " Init_Win_bytes_backward        1188262\n",
              " act_data_pkt_fwd               1188262\n",
              " min_seg_size_forward           1188262\n",
              "Active Mean                     1188262\n",
              " Active Std                     1188262\n",
              " Active Max                     1188262\n",
              " Active Min                     1188262\n",
              "Idle Mean                       1188262\n",
              " Idle Std                       1188262\n",
              " Idle Max                       1188262\n",
              " Idle Min                       1188262\n",
              "Class                           1188262\n",
              "dtype: int64"
            ]
          },
          "metadata": {}
        }
      ]
    },
    {
      "cell_type": "markdown",
      "source": [
        "Eliminaremos en primer lugar las entradas atípicas de **Flow Bytes/s**\n",
        "\n"
      ],
      "metadata": {
        "id": "VcE51gJBGfCa"
      }
    },
    {
      "cell_type": "code",
      "source": [
        "# Se crea una serie con entradas True para valores infinitos\n",
        "finite = np.isfinite(ds_v3[\"Flow Bytes/s\"]) \n",
        "\n",
        "# Filtrando el dataset\n",
        "ds_drop = ds_v3[~finite]\n",
        "\n",
        "# Los candidatos a descarte son poco representativos en sus correspondientes clases\n",
        "ds_drop['Class'].value_counts()"
      ],
      "metadata": {
        "colab": {
          "base_uri": "https://localhost:8080/"
        },
        "id": "70UUj0AQ_cJf",
        "outputId": "92f8e876-e793-4efe-8cec-eddab6fddb38"
      },
      "execution_count": null,
      "outputs": [
        {
          "output_type": "execute_result",
          "data": {
            "text/plain": [
              "1    471\n",
              "0      9\n",
              "Name: Class, dtype: int64"
            ]
          },
          "metadata": {},
          "execution_count": 13
        }
      ]
    },
    {
      "cell_type": "code",
      "source": [
        "# Eliminando las entradas inconsistentes\n",
        "unn_drop = ds_drop['Unnamed: 0'].tolist()\n",
        "\n",
        "for i in unn_drop:\n",
        "    ds_v3 = ds_v3.drop(ds_v3[ds_v3['Unnamed: 0'] == i].index)"
      ],
      "metadata": {
        "id": "laLwafL8dU3W"
      },
      "execution_count": null,
      "outputs": []
    },
    {
      "cell_type": "code",
      "source": [
        "# Comprobamos que las nuevas dimensiones correspondan al número de datos normales\n",
        "ds_v3.shape"
      ],
      "metadata": {
        "colab": {
          "base_uri": "https://localhost:8080/"
        },
        "id": "OjaB9SVUFYsZ",
        "outputId": "2924733f-0a8e-4c61-fe65-d2d231f982b7"
      },
      "execution_count": null,
      "outputs": [
        {
          "output_type": "execute_result",
          "data": {
            "text/plain": [
              "(1187782, 80)"
            ]
          },
          "metadata": {},
          "execution_count": 15
        }
      ]
    },
    {
      "cell_type": "markdown",
      "source": [
        "Verificamos que no hayan valores infinitos"
      ],
      "metadata": {
        "id": "XWqAmikyEJD_"
      }
    },
    {
      "cell_type": "code",
      "source": [
        "np.isfinite(ds_v3[\"Flow Bytes/s\"]).value_counts()"
      ],
      "metadata": {
        "colab": {
          "base_uri": "https://localhost:8080/"
        },
        "id": "e8pAAvwdGwhH",
        "outputId": "efe734ba-03e3-444d-e99c-02b97fc2903b"
      },
      "execution_count": null,
      "outputs": [
        {
          "output_type": "execute_result",
          "data": {
            "text/plain": [
              "True    1187782\n",
              "Name: Flow Bytes/s, dtype: int64"
            ]
          },
          "metadata": {},
          "execution_count": 16
        }
      ]
    },
    {
      "cell_type": "markdown",
      "source": [
        "Ahora revisamos las entradas infinitas de **Flow Packets/s**. Pero ya no presenta entradas atípicas, eran las mismas que fueron eliminadas en la característica anterior"
      ],
      "metadata": {
        "id": "HC7DTx28GI9e"
      }
    },
    {
      "cell_type": "code",
      "source": [
        "# Se crea una serie con entradas True para valores infinitos\n",
        "finite = np.isfinite(ds_v3[\" Flow Packets/s\"]) \n",
        "\n",
        "# Filtrando el dataset\n",
        "ds_drop = ds_v3[~finite]\n",
        "\n",
        "# Ya no hay candidatos a descarte\n",
        "ds_drop['Class'].value_counts()"
      ],
      "metadata": {
        "colab": {
          "base_uri": "https://localhost:8080/"
        },
        "id": "PUWljWw5FfXo",
        "outputId": "7355623c-088e-48b1-82e8-415eba086244"
      },
      "execution_count": null,
      "outputs": [
        {
          "output_type": "execute_result",
          "data": {
            "text/plain": [
              "Series([], Name: Class, dtype: int64)"
            ]
          },
          "metadata": {},
          "execution_count": 17
        }
      ]
    },
    {
      "cell_type": "markdown",
      "source": [
        "Nuestra dataset está libre de datos infinitos"
      ],
      "metadata": {
        "id": "x6w99x-dfHHj"
      }
    },
    {
      "cell_type": "code",
      "source": [
        "with pd.option_context('display.max_rows', None,): \n",
        "    display(np.isfinite(ds_v3).sum())"
      ],
      "metadata": {
        "colab": {
          "base_uri": "https://localhost:8080/",
          "height": 1000
        },
        "id": "95MQG1mue-4C",
        "outputId": "ff6d9205-2dc6-4242-c1ed-0d8cd6416456"
      },
      "execution_count": null,
      "outputs": [
        {
          "output_type": "display_data",
          "data": {
            "text/plain": [
              "Unnamed: 0                      1187782\n",
              " Destination Port               1187782\n",
              " Flow Duration                  1187782\n",
              " Total Fwd Packets              1187782\n",
              " Total Backward Packets         1187782\n",
              "Total Length of Fwd Packets     1187782\n",
              " Total Length of Bwd Packets    1187782\n",
              " Fwd Packet Length Max          1187782\n",
              " Fwd Packet Length Min          1187782\n",
              " Fwd Packet Length Mean         1187782\n",
              " Fwd Packet Length Std          1187782\n",
              "Bwd Packet Length Max           1187782\n",
              " Bwd Packet Length Min          1187782\n",
              " Bwd Packet Length Mean         1187782\n",
              " Bwd Packet Length Std          1187782\n",
              "Flow Bytes/s                    1187782\n",
              " Flow Packets/s                 1187782\n",
              " Flow IAT Mean                  1187782\n",
              " Flow IAT Std                   1187782\n",
              " Flow IAT Max                   1187782\n",
              " Flow IAT Min                   1187782\n",
              "Fwd IAT Total                   1187782\n",
              " Fwd IAT Mean                   1187782\n",
              " Fwd IAT Std                    1187782\n",
              " Fwd IAT Max                    1187782\n",
              " Fwd IAT Min                    1187782\n",
              "Bwd IAT Total                   1187782\n",
              " Bwd IAT Mean                   1187782\n",
              " Bwd IAT Std                    1187782\n",
              " Bwd IAT Max                    1187782\n",
              " Bwd IAT Min                    1187782\n",
              "Fwd PSH Flags                   1187782\n",
              " Bwd PSH Flags                  1187782\n",
              " Fwd URG Flags                  1187782\n",
              " Bwd URG Flags                  1187782\n",
              " Fwd Header Length              1187782\n",
              " Bwd Header Length              1187782\n",
              "Fwd Packets/s                   1187782\n",
              " Bwd Packets/s                  1187782\n",
              " Min Packet Length              1187782\n",
              " Max Packet Length              1187782\n",
              " Packet Length Mean             1187782\n",
              " Packet Length Std              1187782\n",
              " Packet Length Variance         1187782\n",
              "FIN Flag Count                  1187782\n",
              " SYN Flag Count                 1187782\n",
              " RST Flag Count                 1187782\n",
              " PSH Flag Count                 1187782\n",
              " ACK Flag Count                 1187782\n",
              " URG Flag Count                 1187782\n",
              " CWE Flag Count                 1187782\n",
              " ECE Flag Count                 1187782\n",
              " Down/Up Ratio                  1187782\n",
              " Average Packet Size            1187782\n",
              " Avg Fwd Segment Size           1187782\n",
              " Avg Bwd Segment Size           1187782\n",
              " Fwd Header Length.1            1187782\n",
              "Fwd Avg Bytes/Bulk              1187782\n",
              " Fwd Avg Packets/Bulk           1187782\n",
              " Fwd Avg Bulk Rate              1187782\n",
              " Bwd Avg Bytes/Bulk             1187782\n",
              " Bwd Avg Packets/Bulk           1187782\n",
              "Bwd Avg Bulk Rate               1187782\n",
              "Subflow Fwd Packets             1187782\n",
              " Subflow Fwd Bytes              1187782\n",
              " Subflow Bwd Packets            1187782\n",
              " Subflow Bwd Bytes              1187782\n",
              "Init_Win_bytes_forward          1187782\n",
              " Init_Win_bytes_backward        1187782\n",
              " act_data_pkt_fwd               1187782\n",
              " min_seg_size_forward           1187782\n",
              "Active Mean                     1187782\n",
              " Active Std                     1187782\n",
              " Active Max                     1187782\n",
              " Active Min                     1187782\n",
              "Idle Mean                       1187782\n",
              " Idle Std                       1187782\n",
              " Idle Max                       1187782\n",
              " Idle Min                       1187782\n",
              "Class                           1187782\n",
              "dtype: int64"
            ]
          },
          "metadata": {}
        }
      ]
    },
    {
      "cell_type": "markdown",
      "source": [
        "## ¿Hay características innecesarias para la definición del modelo?\n",
        "\n",
        "Haremos una selección de características basados en las recomendaciones de [Comprehensive Guide on Feature Selection](https://https://www.kaggle.com/code/prashant111/comprehensive-guide-on-feature-selection/notebook)\n",
        "\n",
        "1. Eliminaremos las características constantes\n",
        "2. Escogeremos las características más representativas con Random Forest Importance"
      ],
      "metadata": {
        "id": "GKp7Cp6ZpDFW"
      }
    },
    {
      "cell_type": "code",
      "source": [
        "# Separamos las entradas de la salida\n",
        "X = ds_v3.drop(columns=({'Class'}))\n",
        "y = ds_v3['Class']\n",
        "\n",
        "# Estandarizamos los datos\n",
        "scaler = MinMaxScaler()       \n",
        "X_sc = scaler.fit_transform(X)   \n",
        "\n",
        "# Dividimos lo datos para entrenamiento y prueba\n",
        "X_train, X_test, y_train, y_test = train_test_split(X_sc, y, train_size=0.7, random_state=1)"
      ],
      "metadata": {
        "id": "nWJX5hXe56vJ"
      },
      "execution_count": null,
      "outputs": []
    },
    {
      "cell_type": "markdown",
      "source": [
        "Eliminaremos las características constantes"
      ],
      "metadata": {
        "id": "JQXN8oDmiGe-"
      }
    },
    {
      "cell_type": "code",
      "source": [
        "# Encontraremos las características con varianza 0\n",
        "sel = VarianceThreshold(threshold=0)\n",
        "sel.fit(X_train)"
      ],
      "metadata": {
        "colab": {
          "base_uri": "https://localhost:8080/"
        },
        "id": "pbR3ChYD7KW7",
        "outputId": "74c59340-46e1-4efb-d615-9b90735ae74b"
      },
      "execution_count": null,
      "outputs": [
        {
          "output_type": "execute_result",
          "data": {
            "text/plain": [
              "VarianceThreshold(threshold=0)"
            ]
          },
          "metadata": {},
          "execution_count": 20
        }
      ]
    },
    {
      "cell_type": "markdown",
      "source": [
        "¿Cuántas características NO son constantes?"
      ],
      "metadata": {
        "id": "9jxj5-hEp42p"
      }
    },
    {
      "cell_type": "code",
      "source": [
        "retain = sel.get_support()\n",
        "print(sum(retain))"
      ],
      "metadata": {
        "colab": {
          "base_uri": "https://localhost:8080/"
        },
        "id": "Krkp6gfzhzjB",
        "outputId": "efa6c657-9239-46bd-c112-e32feea225f9"
      },
      "execution_count": null,
      "outputs": [
        {
          "output_type": "stream",
          "name": "stdout",
          "text": [
            "69\n"
          ]
        }
      ]
    },
    {
      "cell_type": "markdown",
      "source": [
        "Las 10 características constantes que se eliminarán"
      ],
      "metadata": {
        "id": "obLi7V9zqs5O"
      }
    },
    {
      "cell_type": "code",
      "source": [
        "col_retain = X.columns[~retain]\n",
        "print(col_retain)"
      ],
      "metadata": {
        "colab": {
          "base_uri": "https://localhost:8080/"
        },
        "id": "yyeZbTXQ8Y64",
        "outputId": "70c547c5-3690-437a-b14b-ced1d416ab0c"
      },
      "execution_count": null,
      "outputs": [
        {
          "output_type": "stream",
          "name": "stdout",
          "text": [
            "Index([' Bwd PSH Flags', ' Fwd URG Flags', ' Bwd URG Flags', ' CWE Flag Count',\n",
            "       'Fwd Avg Bytes/Bulk', ' Fwd Avg Packets/Bulk', ' Fwd Avg Bulk Rate',\n",
            "       ' Bwd Avg Bytes/Bulk', ' Bwd Avg Packets/Bulk', 'Bwd Avg Bulk Rate'],\n",
            "      dtype='object')\n"
          ]
        }
      ]
    },
    {
      "cell_type": "markdown",
      "source": [
        "Ajustamos el dataset, eliminando estas características"
      ],
      "metadata": {
        "id": "qNKejOiayB31"
      }
    },
    {
      "cell_type": "code",
      "source": [
        "# Eliminando las columnas constantes\n",
        "col_drop = col_retain.tolist()\n",
        "\n",
        "ds_v4 = ds_v3.drop(col_drop, axis=1)"
      ],
      "metadata": {
        "id": "atKNNdXzyBAh"
      },
      "execution_count": null,
      "outputs": []
    },
    {
      "cell_type": "code",
      "source": [
        "# Revisamos las nueva dimensiones del dataset\n",
        "ds_v4.shape"
      ],
      "metadata": {
        "colab": {
          "base_uri": "https://localhost:8080/"
        },
        "id": "grdw_Vxzz06x",
        "outputId": "c78b5567-035c-413e-fe49-def1118b1598"
      },
      "execution_count": null,
      "outputs": [
        {
          "output_type": "execute_result",
          "data": {
            "text/plain": [
              "(1187782, 70)"
            ]
          },
          "metadata": {},
          "execution_count": 24
        }
      ]
    },
    {
      "cell_type": "markdown",
      "source": [
        "Ahora aplicaremos Random Forest Importance"
      ],
      "metadata": {
        "id": "TiQIeKuDsQ6_"
      }
    },
    {
      "cell_type": "code",
      "source": [
        "# Separamos las entradas de la salida\n",
        "X = ds_v4.drop(columns=({'Class'}))\n",
        "y = ds_v4['Class']\n",
        "\n",
        "# Estandarizamos los datos\n",
        "scaler = MinMaxScaler()       \n",
        "X_sc = scaler.fit_transform(X)   \n",
        "\n",
        "# Dividimos lo datos para entrenamiento y prueba\n",
        "X_train, X_test, y_train, y_test = train_test_split(X_sc, y, train_size=0.7, random_state=1)"
      ],
      "metadata": {
        "id": "aLYulKuWXetK"
      },
      "execution_count": null,
      "outputs": []
    },
    {
      "cell_type": "code",
      "source": [
        "# Instanciamos el clasificador con n_estimators = 100\n",
        "clf = RandomForestClassifier(n_estimators=100, random_state=0)"
      ],
      "metadata": {
        "id": "2IwqPnrpsXp0"
      },
      "execution_count": null,
      "outputs": []
    },
    {
      "cell_type": "code",
      "source": [
        "clf.fit(X_train, y_train)"
      ],
      "metadata": {
        "colab": {
          "base_uri": "https://localhost:8080/"
        },
        "id": "c2GcI94LtWim",
        "outputId": "13f635f5-cbda-43e4-c96a-a30e5e608e70"
      },
      "execution_count": null,
      "outputs": [
        {
          "output_type": "execute_result",
          "data": {
            "text/plain": [
              "RandomForestClassifier(random_state=0)"
            ]
          },
          "metadata": {},
          "execution_count": 27
        }
      ]
    },
    {
      "cell_type": "code",
      "source": [
        "y_pred = clf.predict(X_test)"
      ],
      "metadata": {
        "id": "0PBYfqbHu3IT"
      },
      "execution_count": null,
      "outputs": []
    },
    {
      "cell_type": "code",
      "source": [
        "# Revisemos las características por importancia\n",
        "\n",
        "plt.figure(num=None, figsize=(10,12), dpi=80, facecolor='w', edgecolor='k')\n",
        "\n",
        "feat_importances = pd.Series(clf.feature_importances_, index=ds_v4.iloc[: , :69].columns)\n",
        "\n",
        "feat_importances.nlargest(69).plot(kind='barh')"
      ],
      "metadata": {
        "colab": {
          "base_uri": "https://localhost:8080/",
          "height": 793
        },
        "id": "7UmJC3Y_vB28",
        "outputId": "4d6d2d60-4ebe-40de-aa7f-e1411f2a0096"
      },
      "execution_count": null,
      "outputs": [
        {
          "output_type": "execute_result",
          "data": {
            "text/plain": [
              "<matplotlib.axes._subplots.AxesSubplot at 0x7fd122f34850>"
            ]
          },
          "metadata": {},
          "execution_count": 29
        },
        {
          "output_type": "display_data",
          "data": {
            "text/plain": [
              "<Figure size 800x960 with 1 Axes>"
            ],
            "image/png": "[encoded data removed]"
          },
          "metadata": {}
        }
      ]
    },
    {
      "cell_type": "markdown",
      "source": [
        "Desde el punto de vista telemático, me parece importante contar con la información del puerto de destino, ya que nuestros ataques van ligados fuertemente a esta caracterísitica. He decidido realizar el corte de características importantes justo cuando se se incluye **Destination Port**.\n",
        "\n",
        "Además, buscando realizar la conversión a una imagen cuadrada para CNN, optamos por dejar las 36 caracterísitcas más representativas cubriendo así **Destination Port**"
      ],
      "metadata": {
        "id": "ZXsmXfCAHip3"
      }
    },
    {
      "cell_type": "code",
      "source": [
        "with pd.option_context('display.max_rows', None,): \n",
        "    display(feat_importances.nlargest(36))"
      ],
      "metadata": {
        "colab": {
          "base_uri": "https://localhost:8080/",
          "height": 680
        },
        "id": "BcQ4dlMGwCkF",
        "outputId": "6c99da3f-56df-401b-c606-fcded27e234b"
      },
      "execution_count": null,
      "outputs": [
        {
          "output_type": "display_data",
          "data": {
            "text/plain": [
              " Bwd Packet Length Std         0.067658\n",
              " Average Packet Size           0.064245\n",
              " Fwd Packet Length Max         0.062113\n",
              " Bwd Packet Length Mean        0.057029\n",
              " Avg Bwd Segment Size          0.053920\n",
              " Avg Fwd Segment Size          0.049532\n",
              " act_data_pkt_fwd              0.049247\n",
              "Bwd Packet Length Max          0.046998\n",
              " Subflow Fwd Bytes             0.045646\n",
              "Total Length of Fwd Packets    0.044121\n",
              " Fwd Packet Length Mean        0.035790\n",
              " Subflow Bwd Packets           0.029715\n",
              " Bwd Header Length             0.028958\n",
              "Subflow Fwd Packets            0.027863\n",
              "Init_Win_bytes_forward         0.026722\n",
              " Packet Length Std             0.025851\n",
              " Total Fwd Packets             0.025025\n",
              " Packet Length Variance        0.024732\n",
              " Max Packet Length             0.021318\n",
              " Fwd Header Length.1           0.020470\n",
              " Total Backward Packets        0.018683\n",
              " Packet Length Mean            0.016851\n",
              "Fwd IAT Total                  0.013793\n",
              " Fwd IAT Std                   0.013119\n",
              " Fwd Packet Length Std         0.012562\n",
              " Flow IAT Std                  0.012275\n",
              " Fwd Header Length             0.011684\n",
              " Destination Port              0.010397\n",
              " Fwd IAT Max                   0.008589\n",
              "Fwd Packets/s                  0.008475\n",
              " Fwd IAT Mean                  0.007314\n",
              " Init_Win_bytes_backward       0.006172\n",
              " Fwd IAT Min                   0.005835\n",
              " Flow IAT Mean                 0.005727\n",
              " URG Flag Count                0.005688\n",
              " Flow IAT Max                  0.004753\n",
              "dtype: float64"
            ]
          },
          "metadata": {}
        }
      ]
    },
    {
      "cell_type": "markdown",
      "source": [
        "Caracterísitcas que serán eliminadas por su baja importancia"
      ],
      "metadata": {
        "id": "ByTswnXAn4MU"
      }
    },
    {
      "cell_type": "code",
      "source": [
        "col_retain = feat_importances.nsmallest(33).index\n",
        "print(col_retain)"
      ],
      "metadata": {
        "colab": {
          "base_uri": "https://localhost:8080/"
        },
        "id": "YCYKlIgZ3-Y-",
        "outputId": "38de1f45-5b93-4529-cb46-bd2f71ed4de6"
      },
      "execution_count": null,
      "outputs": [
        {
          "output_type": "stream",
          "name": "stdout",
          "text": [
            "Index([' RST Flag Count', ' ECE Flag Count', ' Idle Std', ' SYN Flag Count',\n",
            "       ' Active Min', 'Idle Mean', ' Idle Max', ' Active Std', ' Bwd IAT Min',\n",
            "       ' Active Max', 'Active Mean', 'FIN Flag Count', 'Fwd PSH Flags',\n",
            "       ' PSH Flag Count', 'Bwd IAT Total', ' Bwd IAT Mean', 'Unnamed: 0',\n",
            "       ' Flow IAT Min', 'Flow Bytes/s', ' Total Length of Bwd Packets',\n",
            "       ' Idle Min', ' Bwd IAT Std', ' ACK Flag Count', ' min_seg_size_forward',\n",
            "       ' Bwd Packets/s', ' Bwd IAT Max', ' Fwd Packet Length Min',\n",
            "       ' Down/Up Ratio', ' Subflow Bwd Bytes', ' Min Packet Length',\n",
            "       ' Flow Packets/s', ' Flow Duration', ' Bwd Packet Length Min'],\n",
            "      dtype='object')\n"
          ]
        }
      ]
    },
    {
      "cell_type": "markdown",
      "source": [
        "Ajustamos el dataset"
      ],
      "metadata": {
        "id": "qzJiZ9Hi32yG"
      }
    },
    {
      "cell_type": "code",
      "source": [
        "# Eliminando las columnas menos significativas\n",
        "col_drop = col_retain.tolist()\n",
        "\n",
        "ds_v4 = ds_v4.drop(col_drop, axis=1)"
      ],
      "metadata": {
        "id": "4hb7lNvA3gg3"
      },
      "execution_count": null,
      "outputs": []
    },
    {
      "cell_type": "markdown",
      "source": [
        "Validemos las nuevas dimensiones del dataset"
      ],
      "metadata": {
        "id": "xItaxwSIIr16"
      }
    },
    {
      "cell_type": "code",
      "source": [
        "ds_v4.shape"
      ],
      "metadata": {
        "colab": {
          "base_uri": "https://localhost:8080/"
        },
        "id": "vblvhpQp5IVH",
        "outputId": "164980c9-cfa8-4f1d-a1c7-6e371bd315e1"
      },
      "execution_count": null,
      "outputs": [
        {
          "output_type": "execute_result",
          "data": {
            "text/plain": [
              "(1187782, 37)"
            ]
          },
          "metadata": {},
          "execution_count": 33
        }
      ]
    },
    {
      "cell_type": "markdown",
      "source": [
        "## El tráfico benigno representa el doble de tráfico malicioso\n",
        "\n",
        "Revisaremos si esta proporción presenta problemas y si al balancear los datos obtenemos cambios significativos.\n",
        "\n",
        "Primero entrenaremos un modelo sin ningún tipo de balanceo"
      ],
      "metadata": {
        "id": "h4wCOsc4JEQ_"
      }
    },
    {
      "cell_type": "code",
      "source": [
        "# Separamos las entradas de la salida\n",
        "X = ds_v4.drop(columns=({'Class'}))\n",
        "y = ds_v4['Class']\n",
        "\n",
        "# Estandarizamos los datos\n",
        "scaler = MinMaxScaler()       \n",
        "X_sc = scaler.fit_transform(X)   \n",
        "\n",
        "# Dividimos lo datos para entrenamiento y prueba\n",
        "X_train, X_test, y_train, y_test = train_test_split(X_sc, y, train_size=0.7, random_state=1)"
      ],
      "metadata": {
        "id": "ydnHjBrhbsjx"
      },
      "execution_count": null,
      "outputs": []
    },
    {
      "cell_type": "code",
      "source": [
        "print('Distribución de las clases para entrenamiento')\n",
        "print(y_train.value_counts())\n",
        "print(' ')\n",
        "print('Distribución de las clases para prueba')\n",
        "print(y_test.value_counts())"
      ],
      "metadata": {
        "colab": {
          "base_uri": "https://localhost:8080/"
        },
        "id": "Caaa0AkLJ7y1",
        "outputId": "68b1c5d8-3386-49ad-e538-e5fa31822147"
      },
      "execution_count": null,
      "outputs": [
        {
          "output_type": "stream",
          "name": "stdout",
          "text": [
            "Distribución de las clases para entrenamiento\n",
            "1    558412\n",
            "0    268475\n",
            "2      3161\n",
            "3      1355\n",
            "4        44\n",
            "Name: Class, dtype: int64\n",
            " \n",
            "Distribución de las clases para prueba\n",
            "1    239368\n",
            "0    114955\n",
            "2      1389\n",
            "3       607\n",
            "4        16\n",
            "Name: Class, dtype: int64\n"
          ]
        }
      ]
    },
    {
      "cell_type": "markdown",
      "source": [
        "Validaremos el impacto del desbalance entre el tráfico BENIGNO y los ATAQUES."
      ],
      "metadata": {
        "id": "UUi6eUZNK77Q"
      }
    },
    {
      "cell_type": "code",
      "source": [
        "# Convertimos las clases en un problema binario\n",
        "y_train_bin = y_train.replace([2, 3, 4], 0)\n",
        "y_test_bin = y_test.replace([2, 3, 4], 0)\n",
        "dict_bin = {0: 'ATTACK', 1: 'BENIGN'}\n",
        "print('Caso binario', dict_bin)\n",
        "print(' ')\n",
        "print('Distribución de las clases para entrenamiento')\n",
        "print(y_train_bin.value_counts())\n",
        "print(' ')\n",
        "print('Distribución de las clases para prueba')\n",
        "print(y_test_bin.value_counts())"
      ],
      "metadata": {
        "colab": {
          "base_uri": "https://localhost:8080/"
        },
        "id": "bvfMKM8LJfXs",
        "outputId": "f2133ca4-5bd5-4a69-a163-e5df5cb1d6a6"
      },
      "execution_count": null,
      "outputs": [
        {
          "output_type": "stream",
          "name": "stdout",
          "text": [
            "Caso binario {0: 'ATTACK', 1: 'BENIGN'}\n",
            " \n",
            "Distribución de las clases para entrenamiento\n",
            "1    558412\n",
            "0    273035\n",
            "Name: Class, dtype: int64\n",
            " \n",
            "Distribución de las clases para prueba\n",
            "1    239368\n",
            "0    116967\n",
            "Name: Class, dtype: int64\n"
          ]
        }
      ]
    },
    {
      "cell_type": "code",
      "source": [
        "clf = LogisticRegression(max_iter=500)\n",
        "\n",
        "clf = clf.fit(X_train, y_train_bin)\n",
        "y_pred_train = clf.predict(X_train)\n",
        "y_pred = clf.predict(X_test)"
      ],
      "metadata": {
        "id": "uxFgrnEOLvTW"
      },
      "execution_count": null,
      "outputs": []
    },
    {
      "cell_type": "code",
      "source": [
        "print(\"Entrenamiento: Accuracy: \",accuracy_score(y_train_bin,y_pred_train), \" F1-Score: \", f1_score(y_train_bin,y_pred_train, average = \"macro\"))\n",
        "print(\"Validación: Accuracy: \",accuracy_score(y_test_bin,y_pred), \" F1-Score: \", f1_score(y_test_bin,y_pred , average = \"macro\"))\n",
        "\n",
        "matrix_conf(y_test_bin, y_pred, dict_bin.values())"
      ],
      "metadata": {
        "colab": {
          "base_uri": "https://localhost:8080/",
          "height": 660
        },
        "id": "NWaTrbe_P-bj",
        "outputId": "51eb09b0-1dd9-49a4-fa1d-fd316a79da2f"
      },
      "execution_count": null,
      "outputs": [
        {
          "output_type": "stream",
          "name": "stdout",
          "text": [
            "Entrenamiento: Accuracy:  0.9788429088083787  F1-Score:  0.9758392492294281\n",
            "Validación: Accuracy:  0.9789692283946286  F1-Score:  0.9759766148001274\n"
          ]
        },
        {
          "output_type": "display_data",
          "data": {
            "text/plain": [
              "<Figure size 720x720 with 2 Axes>"
            ],
            "image/png": "[encoded data removed]"
          },
          "metadata": {
            "needs_background": "light"
          }
        },
        {
          "output_type": "execute_result",
          "data": {
            "text/plain": [
              "<matplotlib.axes._subplots.AxesSubplot at 0x7fd122c43b90>"
            ]
          },
          "metadata": {},
          "execution_count": 38
        }
      ]
    },
    {
      "cell_type": "markdown",
      "source": [
        "Ahora aplicaremos un submuestreo aleatorio, eliminando elementos de la clase mayoritaria de forma aleatoria para balancear las clases."
      ],
      "metadata": {
        "id": "xTuYC7E3qM-G"
      }
    },
    {
      "cell_type": "code",
      "source": [
        "n_min = ds_v4[ds_v4['Class'] != 1].shape[0]\n",
        "print(\"Mínimo número tomado de la clase minoritaria: \",n_min)"
      ],
      "metadata": {
        "colab": {
          "base_uri": "https://localhost:8080/"
        },
        "id": "uqpGb4oVecfK",
        "outputId": "97929f04-0925-4b72-b6f3-11d2cbf841f3"
      },
      "execution_count": null,
      "outputs": [
        {
          "output_type": "stream",
          "name": "stdout",
          "text": [
            "Mínimo número tomado de la clase minoritaria:  390002\n"
          ]
        }
      ]
    },
    {
      "cell_type": "code",
      "source": [
        "clase_0 = ds_v4[ds_v4['Class'] != 1]\n",
        "clase_1 = ds_v4[ds_v4['Class'] == 1].sample(n_min)\n",
        "\n",
        "ds_v5 = pd.concat([clase_0,clase_1])\n",
        "ds_v5.shape"
      ],
      "metadata": {
        "colab": {
          "base_uri": "https://localhost:8080/"
        },
        "id": "1aO_2qG0e0pT",
        "outputId": "83bdb896-4a2d-41bb-c6ca-530dc008d927"
      },
      "execution_count": null,
      "outputs": [
        {
          "output_type": "execute_result",
          "data": {
            "text/plain": [
              "(780004, 37)"
            ]
          },
          "metadata": {},
          "execution_count": 41
        }
      ]
    },
    {
      "cell_type": "code",
      "source": [
        "ds_v5['Class'].value_counts()"
      ],
      "metadata": {
        "colab": {
          "base_uri": "https://localhost:8080/"
        },
        "id": "-g-ZoDjPjCW6",
        "outputId": "4c714cf0-0905-4037-f649-98194809b6af"
      },
      "execution_count": null,
      "outputs": [
        {
          "output_type": "execute_result",
          "data": {
            "text/plain": [
              "1    390002\n",
              "0    383430\n",
              "2      4550\n",
              "3      1962\n",
              "4        60\n",
              "Name: Class, dtype: int64"
            ]
          },
          "metadata": {},
          "execution_count": 42
        }
      ]
    },
    {
      "cell_type": "code",
      "source": [
        "X = ds_v5.drop(['Class'],axis = 1)\n",
        "y = ds_v5['Class']"
      ],
      "metadata": {
        "id": "ztl6Nuj8gEcY"
      },
      "execution_count": null,
      "outputs": []
    },
    {
      "cell_type": "code",
      "source": [
        "# Estandarizamos los datos\n",
        "scaler = MinMaxScaler()       \n",
        "X_sc = scaler.fit_transform(X)   \n",
        "\n",
        "# Dividimos lo datos para entrenamiento y prueba\n",
        "X_train, X_test, y_train, y_test = train_test_split(X_sc, y, train_size=0.7, random_state=1)\n",
        "\n",
        "# Convertimos las clases en un problema binario\n",
        "y_train_bin = y_train.replace([2, 3, 4], 0)\n",
        "y_test_bin = y_test.replace([2, 3, 4], 0)"
      ],
      "metadata": {
        "id": "WrSxn-gdgQUo"
      },
      "execution_count": null,
      "outputs": []
    },
    {
      "cell_type": "code",
      "source": [
        "print('Datos para entrenamiento')\n",
        "print(X_train.shape[0])\n",
        "print(' ')\n",
        "print('Datos para prueba')\n",
        "print(X_test.shape[0])"
      ],
      "metadata": {
        "colab": {
          "base_uri": "https://localhost:8080/"
        },
        "id": "1jV5MG-NgZ5w",
        "outputId": "18d4fd3b-89b7-4c55-8f8c-75430d2a7e43"
      },
      "execution_count": null,
      "outputs": [
        {
          "output_type": "stream",
          "name": "stdout",
          "text": [
            "Datos para entrenamiento\n",
            "546002\n",
            " \n",
            "Datos para prueba\n",
            "234002\n"
          ]
        }
      ]
    },
    {
      "cell_type": "markdown",
      "source": [
        "Entrenamos nuevamente el modelo"
      ],
      "metadata": {
        "id": "Z7md2JcPq-9M"
      }
    },
    {
      "cell_type": "code",
      "source": [
        "clf = LogisticRegression(max_iter=500)\n",
        "\n",
        "clf = clf.fit(X_train, y_train_bin)\n",
        "y_pred_train = clf.predict(X_train)\n",
        "y_pred = clf.predict(X_test)"
      ],
      "metadata": {
        "id": "8Q8eJVFGhUmQ"
      },
      "execution_count": null,
      "outputs": []
    },
    {
      "cell_type": "code",
      "source": [
        "print(\"Entrenamiento: Accuracy: \",accuracy_score(y_train_bin,y_pred_train), \" F1-Score: \", f1_score(y_train_bin,y_pred_train, average = \"macro\"))\n",
        "print(\"Validación: Accuracy: \",accuracy_score(y_test_bin,y_pred), \" F1-Score: \", f1_score(y_test_bin,y_pred , average = \"macro\"))\n",
        "\n",
        "matrix_conf(y_test_bin, y_pred, dict_bin.values())"
      ],
      "metadata": {
        "colab": {
          "base_uri": "https://localhost:8080/",
          "height": 660
        },
        "id": "AvM305LehYgl",
        "outputId": "4427d558-bda6-4886-f1e3-13a09f843ded"
      },
      "execution_count": null,
      "outputs": [
        {
          "output_type": "stream",
          "name": "stdout",
          "text": [
            "Entrenamiento: Accuracy:  0.9792729696960817  F1-Score:  0.9792727257862646\n",
            "Validación: Accuracy:  0.9788719754532013  F1-Score:  0.9788719749531383\n"
          ]
        },
        {
          "output_type": "display_data",
          "data": {
            "text/plain": [
              "<Figure size 720x720 with 2 Axes>"
            ],
            "image/png": "[encoded data removed]"
          },
          "metadata": {
            "needs_background": "light"
          }
        },
        {
          "output_type": "execute_result",
          "data": {
            "text/plain": [
              "<matplotlib.axes._subplots.AxesSubplot at 0x7fd122763ed0>"
            ]
          },
          "metadata": {},
          "execution_count": 47
        }
      ]
    }
  ]
}